{
  "cells": [
    {
      "cell_type": "markdown",
      "id": "yTAY246KAdUx",
      "metadata": {
        "id": "yTAY246KAdUx"
      },
      "source": [
        "# Using Neural Networks to Shortlist Resumes\n",
        "\n",
        "Yea.. We're doing exactly that.\n",
        "\n",
        "## Loading up the Stuff\n",
        "Anway, let's first begin by importing all the necessary libraries we need for now."
      ]
    },
    {
      "cell_type": "code",
      "execution_count": 1,
      "id": "66775f72",
      "metadata": {
        "colab": {
          "base_uri": "https://localhost:8080/"
        },
        "id": "66775f72",
        "outputId": "005d3267-b5cf-4a80-a447-dfb2ddee3747"
      },
      "outputs": [
        {
          "name": "stderr",
          "output_type": "stream",
          "text": [
            "[nltk_data] Downloading package punkt to /home/devansh/nltk_data...\n",
            "[nltk_data]   Package punkt is already up-to-date!\n",
            "[nltk_data] Downloading package punkt_tab to\n",
            "[nltk_data]     /home/devansh/nltk_data...\n",
            "[nltk_data]   Package punkt_tab is already up-to-date!\n",
            "[nltk_data] Downloading package wordnet to /home/devansh/nltk_data...\n",
            "[nltk_data]   Package wordnet is already up-to-date!\n",
            "[nltk_data] Downloading package stopwords to\n",
            "[nltk_data]     /home/devansh/nltk_data...\n",
            "[nltk_data]   Package stopwords is already up-to-date!\n"
          ]
        },
        {
          "data": {
            "text/plain": [
              "True"
            ]
          },
          "execution_count": 1,
          "metadata": {},
          "output_type": "execute_result"
        }
      ],
      "source": [
        "import numpy as np    # Linalg\n",
        "import pandas as pd   # csv processing\n",
        "import nltk           # NLP library for tokenising\n",
        "import re             # regex evaluation\n",
        "\n",
        "# Necessary packages needed for nltk to tokenize the words.\n",
        "nltk.download('punkt')\n",
        "nltk.download('punkt_tab')\n",
        "nltk.download('wordnet')\n",
        "nltk.download('stopwords')"
      ]
    },
    {
      "cell_type": "markdown",
      "id": "RBAW2b31BC9l",
      "metadata": {
        "id": "RBAW2b31BC9l"
      },
      "source": [
        "Let's now load up our dataset and look at the content."
      ]
    },
    {
      "cell_type": "code",
      "execution_count": 2,
      "id": "90b1716a",
      "metadata": {
        "colab": {
          "base_uri": "https://localhost:8080/",
          "height": 424
        },
        "id": "90b1716a",
        "outputId": "7f4c710f-5282-45db-ba62-90d90a838e38"
      },
      "outputs": [
        {
          "data": {
            "text/html": [
              "<div>\n",
              "<style scoped>\n",
              "    .dataframe tbody tr th:only-of-type {\n",
              "        vertical-align: middle;\n",
              "    }\n",
              "\n",
              "    .dataframe tbody tr th {\n",
              "        vertical-align: top;\n",
              "    }\n",
              "\n",
              "    .dataframe thead th {\n",
              "        text-align: right;\n",
              "    }\n",
              "</style>\n",
              "<table border=\"1\" class=\"dataframe\">\n",
              "  <thead>\n",
              "    <tr style=\"text-align: right;\">\n",
              "      <th></th>\n",
              "      <th>Category</th>\n",
              "      <th>Resume</th>\n",
              "    </tr>\n",
              "  </thead>\n",
              "  <tbody>\n",
              "    <tr>\n",
              "      <th>0</th>\n",
              "      <td>Data Science</td>\n",
              "      <td>Skills * Programming Languages: Python (pandas...</td>\n",
              "    </tr>\n",
              "    <tr>\n",
              "      <th>1</th>\n",
              "      <td>Data Science</td>\n",
              "      <td>Education Details \\r\\nMay 2013 to May 2017 B.E...</td>\n",
              "    </tr>\n",
              "    <tr>\n",
              "      <th>2</th>\n",
              "      <td>Data Science</td>\n",
              "      <td>Areas of Interest Deep Learning, Control Syste...</td>\n",
              "    </tr>\n",
              "    <tr>\n",
              "      <th>3</th>\n",
              "      <td>Data Science</td>\n",
              "      <td>Skills â¢ R â¢ Python â¢ SAP HANA â¢ Table...</td>\n",
              "    </tr>\n",
              "    <tr>\n",
              "      <th>4</th>\n",
              "      <td>Data Science</td>\n",
              "      <td>Education Details \\r\\n MCA   YMCAUST,  Faridab...</td>\n",
              "    </tr>\n",
              "    <tr>\n",
              "      <th>...</th>\n",
              "      <td>...</td>\n",
              "      <td>...</td>\n",
              "    </tr>\n",
              "    <tr>\n",
              "      <th>957</th>\n",
              "      <td>Testing</td>\n",
              "      <td>Computer Skills: â¢ Proficient in MS office (...</td>\n",
              "    </tr>\n",
              "    <tr>\n",
              "      <th>958</th>\n",
              "      <td>Testing</td>\n",
              "      <td>â Willingness to accept the challenges. â ...</td>\n",
              "    </tr>\n",
              "    <tr>\n",
              "      <th>959</th>\n",
              "      <td>Testing</td>\n",
              "      <td>PERSONAL SKILLS â¢ Quick learner, â¢ Eagerne...</td>\n",
              "    </tr>\n",
              "    <tr>\n",
              "      <th>960</th>\n",
              "      <td>Testing</td>\n",
              "      <td>COMPUTER SKILLS &amp; SOFTWARE KNOWLEDGE MS-Power ...</td>\n",
              "    </tr>\n",
              "    <tr>\n",
              "      <th>961</th>\n",
              "      <td>Testing</td>\n",
              "      <td>Skill Set OS Windows XP/7/8/8.1/10 Database MY...</td>\n",
              "    </tr>\n",
              "  </tbody>\n",
              "</table>\n",
              "<p>962 rows × 2 columns</p>\n",
              "</div>"
            ],
            "text/plain": [
              "         Category                                             Resume\n",
              "0    Data Science  Skills * Programming Languages: Python (pandas...\n",
              "1    Data Science  Education Details \\r\\nMay 2013 to May 2017 B.E...\n",
              "2    Data Science  Areas of Interest Deep Learning, Control Syste...\n",
              "3    Data Science  Skills â¢ R â¢ Python â¢ SAP HANA â¢ Table...\n",
              "4    Data Science  Education Details \\r\\n MCA   YMCAUST,  Faridab...\n",
              "..            ...                                                ...\n",
              "957       Testing  Computer Skills: â¢ Proficient in MS office (...\n",
              "958       Testing  â Willingness to accept the challenges. â ...\n",
              "959       Testing  PERSONAL SKILLS â¢ Quick learner, â¢ Eagerne...\n",
              "960       Testing  COMPUTER SKILLS & SOFTWARE KNOWLEDGE MS-Power ...\n",
              "961       Testing  Skill Set OS Windows XP/7/8/8.1/10 Database MY...\n",
              "\n",
              "[962 rows x 2 columns]"
            ]
          },
          "execution_count": 2,
          "metadata": {},
          "output_type": "execute_result"
        }
      ],
      "source": [
        "path = 'data/resume_data.csv'\n",
        "df = pd.read_csv(path)\n",
        "\n",
        "df"
      ]
    },
    {
      "cell_type": "markdown",
      "id": "eeF40G3yBQuF",
      "metadata": {
        "id": "eeF40G3yBQuF"
      },
      "source": [
        "## Strategy\n",
        "\n",
        "So from here, we'll take our data and make two more datasets out of it:\n",
        "\n",
        "- **Tabular Dataset** - This will contain features like degree, experience, job field etc. which we will feed to an MLP.\n",
        "\n",
        "- **Tokenised Text Dataset** - We'll tokenize the resume text and then do some processing to convert it to feature vectors of fixed size, which will be fed to an LSTM.\n",
        "\n",
        "After this, we will take the final layers (before the output) of both models, concatenate them and send them through another MLP to predict the probability of a resume being shortlisted.\n",
        "\n",
        "Let's now work on the data splitting.\n",
        "\n",
        "## Data Splitting and Processing\n",
        "Let's first work on the tabular data which will be used by the MLP."
      ]
    },
    {
      "cell_type": "code",
      "execution_count": 3,
      "id": "26106326",
      "metadata": {
        "colab": {
          "base_uri": "https://localhost:8080/",
          "height": 424
        },
        "id": "26106326",
        "outputId": "42ace362-c657-40b7-def6-c36fca7dc250"
      },
      "outputs": [
        {
          "data": {
            "text/html": [
              "<div>\n",
              "<style scoped>\n",
              "    .dataframe tbody tr th:only-of-type {\n",
              "        vertical-align: middle;\n",
              "    }\n",
              "\n",
              "    .dataframe tbody tr th {\n",
              "        vertical-align: top;\n",
              "    }\n",
              "\n",
              "    .dataframe thead th {\n",
              "        text-align: right;\n",
              "    }\n",
              "</style>\n",
              "<table border=\"1\" class=\"dataframe\">\n",
              "  <thead>\n",
              "    <tr style=\"text-align: right;\">\n",
              "      <th></th>\n",
              "      <th>Category</th>\n",
              "      <th>Resume</th>\n",
              "      <th>degree</th>\n",
              "      <th>experience</th>\n",
              "      <th>field_of_study</th>\n",
              "    </tr>\n",
              "  </thead>\n",
              "  <tbody>\n",
              "    <tr>\n",
              "      <th>0</th>\n",
              "      <td>Data Science</td>\n",
              "      <td>Skills * Programming Languages: Python (pandas...</td>\n",
              "      <td>bachelors</td>\n",
              "      <td>72</td>\n",
              "      <td>computer science</td>\n",
              "    </tr>\n",
              "    <tr>\n",
              "      <th>1</th>\n",
              "      <td>Data Science</td>\n",
              "      <td>Education Details \\r\\nMay 2013 to May 2017 B.E...</td>\n",
              "      <td>bachelors</td>\n",
              "      <td>84</td>\n",
              "      <td>information technology</td>\n",
              "    </tr>\n",
              "    <tr>\n",
              "      <th>2</th>\n",
              "      <td>Data Science</td>\n",
              "      <td>Areas of Interest Deep Learning, Control Syste...</td>\n",
              "      <td>bachelors</td>\n",
              "      <td>96</td>\n",
              "      <td>computer science</td>\n",
              "    </tr>\n",
              "    <tr>\n",
              "      <th>3</th>\n",
              "      <td>Data Science</td>\n",
              "      <td>Skills â¢ R â¢ Python â¢ SAP HANA â¢ Table...</td>\n",
              "      <td>masters</td>\n",
              "      <td>149</td>\n",
              "      <td>computer science</td>\n",
              "    </tr>\n",
              "    <tr>\n",
              "      <th>4</th>\n",
              "      <td>Data Science</td>\n",
              "      <td>Education Details \\r\\n MCA   YMCAUST,  Faridab...</td>\n",
              "      <td>masters</td>\n",
              "      <td>72</td>\n",
              "      <td>information technology</td>\n",
              "    </tr>\n",
              "    <tr>\n",
              "      <th>...</th>\n",
              "      <td>...</td>\n",
              "      <td>...</td>\n",
              "      <td>...</td>\n",
              "      <td>...</td>\n",
              "      <td>...</td>\n",
              "    </tr>\n",
              "    <tr>\n",
              "      <th>957</th>\n",
              "      <td>Testing</td>\n",
              "      <td>Computer Skills: â¢ Proficient in MS office (...</td>\n",
              "      <td>bachelors</td>\n",
              "      <td>18</td>\n",
              "      <td>electrical</td>\n",
              "    </tr>\n",
              "    <tr>\n",
              "      <th>958</th>\n",
              "      <td>Testing</td>\n",
              "      <td>â Willingness to accept the challenges. â ...</td>\n",
              "      <td>bachelors</td>\n",
              "      <td>24</td>\n",
              "      <td>computer science</td>\n",
              "    </tr>\n",
              "    <tr>\n",
              "      <th>959</th>\n",
              "      <td>Testing</td>\n",
              "      <td>PERSONAL SKILLS â¢ Quick learner, â¢ Eagerne...</td>\n",
              "      <td>bachelors</td>\n",
              "      <td>0</td>\n",
              "      <td>electrical</td>\n",
              "    </tr>\n",
              "    <tr>\n",
              "      <th>960</th>\n",
              "      <td>Testing</td>\n",
              "      <td>COMPUTER SKILLS &amp; SOFTWARE KNOWLEDGE MS-Power ...</td>\n",
              "      <td>bachelors</td>\n",
              "      <td>18</td>\n",
              "      <td>computer science</td>\n",
              "    </tr>\n",
              "    <tr>\n",
              "      <th>961</th>\n",
              "      <td>Testing</td>\n",
              "      <td>Skill Set OS Windows XP/7/8/8.1/10 Database MY...</td>\n",
              "      <td>bachelors</td>\n",
              "      <td>90</td>\n",
              "      <td>computer science</td>\n",
              "    </tr>\n",
              "  </tbody>\n",
              "</table>\n",
              "<p>962 rows × 5 columns</p>\n",
              "</div>"
            ],
            "text/plain": [
              "         Category                                             Resume  \\\n",
              "0    Data Science  Skills * Programming Languages: Python (pandas...   \n",
              "1    Data Science  Education Details \\r\\nMay 2013 to May 2017 B.E...   \n",
              "2    Data Science  Areas of Interest Deep Learning, Control Syste...   \n",
              "3    Data Science  Skills â¢ R â¢ Python â¢ SAP HANA â¢ Table...   \n",
              "4    Data Science  Education Details \\r\\n MCA   YMCAUST,  Faridab...   \n",
              "..            ...                                                ...   \n",
              "957       Testing  Computer Skills: â¢ Proficient in MS office (...   \n",
              "958       Testing  â Willingness to accept the challenges. â ...   \n",
              "959       Testing  PERSONAL SKILLS â¢ Quick learner, â¢ Eagerne...   \n",
              "960       Testing  COMPUTER SKILLS & SOFTWARE KNOWLEDGE MS-Power ...   \n",
              "961       Testing  Skill Set OS Windows XP/7/8/8.1/10 Database MY...   \n",
              "\n",
              "        degree  experience          field_of_study  \n",
              "0    bachelors          72        computer science  \n",
              "1    bachelors          84  information technology  \n",
              "2    bachelors          96        computer science  \n",
              "3      masters         149        computer science  \n",
              "4      masters          72  information technology  \n",
              "..         ...         ...                     ...  \n",
              "957  bachelors          18              electrical  \n",
              "958  bachelors          24        computer science  \n",
              "959  bachelors           0              electrical  \n",
              "960  bachelors          18        computer science  \n",
              "961  bachelors          90        computer science  \n",
              "\n",
              "[962 rows x 5 columns]"
            ]
          },
          "execution_count": 3,
          "metadata": {},
          "output_type": "execute_result"
        }
      ],
      "source": [
        "def extract_degree_level(text):\n",
        "\n",
        "    # Keywords for each degree to look at\n",
        "    phd_keywords = ['phd', 'ph.d', 'doctorate']\n",
        "    masters_keywords = ['master of', \"master's\", 'msc', 'm.s.', 'm.tech', 'm.eng', 'mca', 'pgdm', 'post graduate']\n",
        "    bachelors_keywords = ['b.tech', 'b.e', 'ba', 'b.a.', 'b.sc', 'bachelor of']\n",
        "    diploma_keywords = ['diploma', 'polytechnic']\n",
        "    highschool_keywords = ['high school', 'secondary education']\n",
        "\n",
        "\n",
        "    # Convert the text to lowercase, return the necessary degree\n",
        "    text = text.lower()\n",
        "\n",
        "    for kw in phd_keywords:\n",
        "        if kw in text:\n",
        "            return 'phd'\n",
        "\n",
        "    for kw in masters_keywords:\n",
        "        if kw in text:\n",
        "            return 'masters'\n",
        "\n",
        "    for kw in bachelors_keywords:\n",
        "        if kw in text:\n",
        "            return 'bachelors'\n",
        "\n",
        "    for kw in diploma_keywords:\n",
        "        if kw in text:\n",
        "            return 'diploma'\n",
        "\n",
        "    for kw in highschool_keywords:\n",
        "        if kw in text:\n",
        "            return 'highschool'\n",
        "\n",
        "    return 'none'\n",
        "\n",
        "def extract_experience(text):\n",
        "    # Another function to extract experience in anything in months. Won't be useful if the number is in text.\n",
        "    text = text.lower()\n",
        "\n",
        "    # Extract years\n",
        "    years = re.findall(r'(\\d+(?:\\.\\d+)?)\\s*(?:\\+)?\\s*years?', text)\n",
        "    total_years = sum(float(y) for y in years)\n",
        "\n",
        "    # Extract months\n",
        "    months = re.findall(r'(\\d+(?:\\.\\d+)?)\\s*months?', text)\n",
        "    total_months = sum(float(m) for m in months)\n",
        "\n",
        "    # Final total in months\n",
        "    experience_months = int(total_years * 12 + total_months)\n",
        "    return experience_months\n",
        "\n",
        "def extract_field_of_study(text):\n",
        "    # Finding out their field of study, again using keywords\n",
        "\n",
        "    field_keywords = {\n",
        "    'computer science': ['computer science', 'cse', 'cs', 'computer engineering', 'software engineering'],\n",
        "    'electronics': ['electronics and communication', 'ece', 'electronics', 'e&c'],\n",
        "    'electrical': ['electrical engineering', 'ee', 'electrical'],\n",
        "    'information technology': ['information technology', 'it'],\n",
        "    'mechanical': ['mechanical engineering', 'mechanical'],\n",
        "    'civil': ['civil engineering', 'civil'],\n",
        "    'data science': ['data science', 'analytics', 'business analytics'],\n",
        "    'mathematics': ['mathematics', 'maths', 'statistics', 'applied mathematics'],\n",
        "    'physics': ['physics'],\n",
        "    'chemistry': ['chemistry'],\n",
        "    'management': ['management', 'mba', 'business administration', 'pgdm'],\n",
        "    'biotechnology': ['biotechnology', 'bioinformatics'],\n",
        "    'chemical': ['chemical engineering', 'chemical'],\n",
        "    'instrumentation': ['instrumentation engineering', 'instrumentation'],\n",
        "    'science': ['science']\n",
        "    }\n",
        "\n",
        "    text = text.lower()\n",
        "    for field, keywords in field_keywords.items():\n",
        "        for kw in keywords:\n",
        "            if kw in text:\n",
        "                return field\n",
        "    return 'other'\n",
        "\n",
        "def extract_tabular_features(df):\n",
        "  # Apply everything and return it on a separate dataframe\n",
        "  df_t = df.copy()\n",
        "  df_t['degree'] = df_t['Resume'].apply(extract_degree_level)\n",
        "  df_t['experience'] = df_t['Resume'].apply(extract_experience)\n",
        "  df_t['field_of_study'] = df_t['Resume'].apply(extract_field_of_study)\n",
        "  return df_t\n",
        "\n",
        "df_with_tabular = extract_tabular_features(df)\n",
        "df_with_tabular"
      ]
    },
    {
      "cell_type": "markdown",
      "id": "PppoLuQuDzwq",
      "metadata": {
        "id": "PppoLuQuDzwq"
      },
      "source": [
        "Looks good enough, but we can't work with text.\n",
        "\n",
        "Next, we perform encoding on the necessary tabular columns and scale the experience."
      ]
    },
    {
      "cell_type": "code",
      "execution_count": 4,
      "id": "15fa91a5",
      "metadata": {
        "colab": {
          "base_uri": "https://localhost:8080/"
        },
        "id": "15fa91a5",
        "outputId": "566f9339-b9a5-4d07-844c-afc0608d896f"
      },
      "outputs": [
        {
          "data": {
            "text/plain": [
              "array([[ 1.        ,  0.        ,  0.        , ...,  0.        ,\n",
              "         0.        , -0.16006071],\n",
              "       [ 1.        ,  0.        ,  0.        , ...,  0.        ,\n",
              "         1.        , -0.11310057],\n",
              "       [ 1.        ,  0.        ,  0.        , ...,  0.        ,\n",
              "         0.        , -0.06614042],\n",
              "       ...,\n",
              "       [ 1.        ,  0.        ,  0.        , ...,  0.        ,\n",
              "         0.        , -0.44182159],\n",
              "       [ 1.        ,  0.        ,  0.        , ...,  0.        ,\n",
              "         0.        , -0.37138137],\n",
              "       [ 1.        ,  0.        ,  0.        , ...,  0.        ,\n",
              "         0.        , -0.08962049]])"
            ]
          },
          "execution_count": 4,
          "metadata": {},
          "output_type": "execute_result"
        }
      ],
      "source": [
        "# Importing all the encoders we will use and the standard scaler\n",
        "from sklearn.preprocessing import OneHotEncoder\n",
        "from sklearn.preprocessing import StandardScaler\n",
        "from sklearn.preprocessing import LabelEncoder\n",
        "\n",
        "encoder = OneHotEncoder(sparse_output=False, handle_unknown='ignore')\n",
        "scaler = StandardScaler()\n",
        "label_enc = LabelEncoder()\n",
        "\n",
        "\n",
        "def encode_tabular_data(df):\n",
        "  # Do the needful encoding and scaling and return the final feature matrix\n",
        "  X_cat = encoder.fit_transform(df[['degree', 'field_of_study']])\n",
        "  scaler = StandardScaler()\n",
        "  X_num = scaler.fit_transform(df[['experience']])\n",
        "  label_enc = LabelEncoder()\n",
        "  y = label_enc.fit_transform(df['Category'])\n",
        "  X = np.hstack([X_cat, X_num])\n",
        "  return X\n",
        "\n",
        "encode_tabular_data(df_with_tabular)"
      ]
    },
    {
      "cell_type": "markdown",
      "id": "JQQWvhI4lxfL",
      "metadata": {
        "id": "JQQWvhI4lxfL"
      },
      "source": [
        "Now that we've had our data in a less understandable format, let's work on the textual data which will be fed to the LSTM.\n",
        "\n",
        "Given below is a function that cleans the resume text, removes all digits and special characters, commonly used words, tokenizes and lemmatizes the text, and returns the resume as a space separated list of the extracted tokens."
      ]
    },
    {
      "cell_type": "code",
      "execution_count": 5,
      "id": "861aa7e9",
      "metadata": {
        "colab": {
          "base_uri": "https://localhost:8080/",
          "height": 424
        },
        "id": "861aa7e9",
        "outputId": "b2d905c7-3154-4cc5-b408-a55df7775c42"
      },
      "outputs": [
        {
          "data": {
            "text/html": [
              "<div>\n",
              "<style scoped>\n",
              "    .dataframe tbody tr th:only-of-type {\n",
              "        vertical-align: middle;\n",
              "    }\n",
              "\n",
              "    .dataframe tbody tr th {\n",
              "        vertical-align: top;\n",
              "    }\n",
              "\n",
              "    .dataframe thead th {\n",
              "        text-align: right;\n",
              "    }\n",
              "</style>\n",
              "<table border=\"1\" class=\"dataframe\">\n",
              "  <thead>\n",
              "    <tr style=\"text-align: right;\">\n",
              "      <th></th>\n",
              "      <th>Category</th>\n",
              "      <th>Resume</th>\n",
              "      <th>degree</th>\n",
              "      <th>experience</th>\n",
              "      <th>field_of_study</th>\n",
              "      <th>cleaned_resume</th>\n",
              "    </tr>\n",
              "  </thead>\n",
              "  <tbody>\n",
              "    <tr>\n",
              "      <th>0</th>\n",
              "      <td>Data Science</td>\n",
              "      <td>Skills * Programming Languages: Python (pandas...</td>\n",
              "      <td>bachelors</td>\n",
              "      <td>72</td>\n",
              "      <td>computer science</td>\n",
              "      <td>skill programming language python panda numpy ...</td>\n",
              "    </tr>\n",
              "    <tr>\n",
              "      <th>1</th>\n",
              "      <td>Data Science</td>\n",
              "      <td>Education Details \\r\\nMay 2013 to May 2017 B.E...</td>\n",
              "      <td>bachelors</td>\n",
              "      <td>84</td>\n",
              "      <td>information technology</td>\n",
              "      <td>education detail may may uitrgpv data scientis...</td>\n",
              "    </tr>\n",
              "    <tr>\n",
              "      <th>2</th>\n",
              "      <td>Data Science</td>\n",
              "      <td>Areas of Interest Deep Learning, Control Syste...</td>\n",
              "      <td>bachelors</td>\n",
              "      <td>96</td>\n",
              "      <td>computer science</td>\n",
              "      <td>area interest deep learning control system des...</td>\n",
              "    </tr>\n",
              "    <tr>\n",
              "      <th>3</th>\n",
              "      <td>Data Science</td>\n",
              "      <td>Skills â¢ R â¢ Python â¢ SAP HANA â¢ Table...</td>\n",
              "      <td>masters</td>\n",
              "      <td>149</td>\n",
              "      <td>computer science</td>\n",
              "      <td>skill r python sap hana tableau sap hana sql s...</td>\n",
              "    </tr>\n",
              "    <tr>\n",
              "      <th>4</th>\n",
              "      <td>Data Science</td>\n",
              "      <td>Education Details \\r\\n MCA   YMCAUST,  Faridab...</td>\n",
              "      <td>masters</td>\n",
              "      <td>72</td>\n",
              "      <td>information technology</td>\n",
              "      <td>education detail mca ymcaust faridabad haryana...</td>\n",
              "    </tr>\n",
              "    <tr>\n",
              "      <th>...</th>\n",
              "      <td>...</td>\n",
              "      <td>...</td>\n",
              "      <td>...</td>\n",
              "      <td>...</td>\n",
              "      <td>...</td>\n",
              "      <td>...</td>\n",
              "    </tr>\n",
              "    <tr>\n",
              "      <th>957</th>\n",
              "      <td>Testing</td>\n",
              "      <td>Computer Skills: â¢ Proficient in MS office (...</td>\n",
              "      <td>bachelors</td>\n",
              "      <td>18</td>\n",
              "      <td>electrical</td>\n",
              "      <td>computer skill proficient m office word basic ...</td>\n",
              "    </tr>\n",
              "    <tr>\n",
              "      <th>958</th>\n",
              "      <td>Testing</td>\n",
              "      <td>â Willingness to accept the challenges. â ...</td>\n",
              "      <td>bachelors</td>\n",
              "      <td>24</td>\n",
              "      <td>computer science</td>\n",
              "      <td>willingness accept challenge positive thinking...</td>\n",
              "    </tr>\n",
              "    <tr>\n",
              "      <th>959</th>\n",
              "      <td>Testing</td>\n",
              "      <td>PERSONAL SKILLS â¢ Quick learner, â¢ Eagerne...</td>\n",
              "      <td>bachelors</td>\n",
              "      <td>0</td>\n",
              "      <td>electrical</td>\n",
              "      <td>personal skill quick learner eagerness learn n...</td>\n",
              "    </tr>\n",
              "    <tr>\n",
              "      <th>960</th>\n",
              "      <td>Testing</td>\n",
              "      <td>COMPUTER SKILLS &amp; SOFTWARE KNOWLEDGE MS-Power ...</td>\n",
              "      <td>bachelors</td>\n",
              "      <td>18</td>\n",
              "      <td>computer science</td>\n",
              "      <td>computer skill software knowledge mspower poin...</td>\n",
              "    </tr>\n",
              "    <tr>\n",
              "      <th>961</th>\n",
              "      <td>Testing</td>\n",
              "      <td>Skill Set OS Windows XP/7/8/8.1/10 Database MY...</td>\n",
              "      <td>bachelors</td>\n",
              "      <td>90</td>\n",
              "      <td>computer science</td>\n",
              "      <td>skill set o window xp database mysql sql serve...</td>\n",
              "    </tr>\n",
              "  </tbody>\n",
              "</table>\n",
              "<p>962 rows × 6 columns</p>\n",
              "</div>"
            ],
            "text/plain": [
              "         Category                                             Resume  \\\n",
              "0    Data Science  Skills * Programming Languages: Python (pandas...   \n",
              "1    Data Science  Education Details \\r\\nMay 2013 to May 2017 B.E...   \n",
              "2    Data Science  Areas of Interest Deep Learning, Control Syste...   \n",
              "3    Data Science  Skills â¢ R â¢ Python â¢ SAP HANA â¢ Table...   \n",
              "4    Data Science  Education Details \\r\\n MCA   YMCAUST,  Faridab...   \n",
              "..            ...                                                ...   \n",
              "957       Testing  Computer Skills: â¢ Proficient in MS office (...   \n",
              "958       Testing  â Willingness to accept the challenges. â ...   \n",
              "959       Testing  PERSONAL SKILLS â¢ Quick learner, â¢ Eagerne...   \n",
              "960       Testing  COMPUTER SKILLS & SOFTWARE KNOWLEDGE MS-Power ...   \n",
              "961       Testing  Skill Set OS Windows XP/7/8/8.1/10 Database MY...   \n",
              "\n",
              "        degree  experience          field_of_study  \\\n",
              "0    bachelors          72        computer science   \n",
              "1    bachelors          84  information technology   \n",
              "2    bachelors          96        computer science   \n",
              "3      masters         149        computer science   \n",
              "4      masters          72  information technology   \n",
              "..         ...         ...                     ...   \n",
              "957  bachelors          18              electrical   \n",
              "958  bachelors          24        computer science   \n",
              "959  bachelors           0              electrical   \n",
              "960  bachelors          18        computer science   \n",
              "961  bachelors          90        computer science   \n",
              "\n",
              "                                        cleaned_resume  \n",
              "0    skill programming language python panda numpy ...  \n",
              "1    education detail may may uitrgpv data scientis...  \n",
              "2    area interest deep learning control system des...  \n",
              "3    skill r python sap hana tableau sap hana sql s...  \n",
              "4    education detail mca ymcaust faridabad haryana...  \n",
              "..                                                 ...  \n",
              "957  computer skill proficient m office word basic ...  \n",
              "958  willingness accept challenge positive thinking...  \n",
              "959  personal skill quick learner eagerness learn n...  \n",
              "960  computer skill software knowledge mspower poin...  \n",
              "961  skill set o window xp database mysql sql serve...  \n",
              "\n",
              "[962 rows x 6 columns]"
            ]
          },
          "execution_count": 5,
          "metadata": {},
          "output_type": "execute_result"
        }
      ],
      "source": [
        "import re\n",
        "from nltk.corpus import stopwords\n",
        "from nltk.tokenize import word_tokenize\n",
        "from nltk.stem import WordNetLemmatizer\n",
        "\n",
        "stop_words = set(stopwords.words('english'))\n",
        "lemmatizer = WordNetLemmatizer()\n",
        "\n",
        "def clean_text(text):\n",
        "    # Lowercase\n",
        "    text = text.lower()\n",
        "\n",
        "    # Remove numbers and special characters\n",
        "    text = re.sub(r'[^a-z\\s]', '', text)\n",
        "\n",
        "    # Tokenize\n",
        "    tokens = word_tokenize(text)\n",
        "\n",
        "    # Remove stopwords\n",
        "    tokens = [t for t in tokens if t not in stop_words]\n",
        "\n",
        "    # Lemmatize\n",
        "    tokens = [lemmatizer.lemmatize(t) for t in tokens]\n",
        "\n",
        "    return \" \".join(tokens)\n",
        "\n",
        "df_tabular_and_textual = df_with_tabular.copy()\n",
        "df_tabular_and_textual['cleaned_resume'] = df['Resume'].apply(clean_text)\n",
        "df_tabular_and_textual"
      ]
    },
    {
      "cell_type": "markdown",
      "id": "YAnm78UDmuiv",
      "metadata": {
        "id": "YAnm78UDmuiv"
      },
      "source": [
        "Well, now the cleaned text looks a lot better to look at! Next, we will convert each token to a unique index number and then convert the token lists to sequences of numbers, which will be fed into the LSTM.\n",
        "\n",
        "Normally resumes are of different sizes, so we may need to pad them up with some value. However, if a resume if particularly long, then the padding for the other points will interfere with the LSTM training. Hence, we keep a limit on the sequence length, which is 200 for now."
      ]
    },
    {
      "cell_type": "code",
      "execution_count": 6,
      "id": "EnMAxwU7nL8m",
      "metadata": {
        "colab": {
          "base_uri": "https://localhost:8080/",
          "height": 597
        },
        "id": "EnMAxwU7nL8m",
        "outputId": "1a66b308-a716-4a5f-e5e8-e0d3a377d0b3"
      },
      "outputs": [
        {
          "data": {
            "text/html": [
              "<div>\n",
              "<style scoped>\n",
              "    .dataframe tbody tr th:only-of-type {\n",
              "        vertical-align: middle;\n",
              "    }\n",
              "\n",
              "    .dataframe tbody tr th {\n",
              "        vertical-align: top;\n",
              "    }\n",
              "\n",
              "    .dataframe thead th {\n",
              "        text-align: right;\n",
              "    }\n",
              "</style>\n",
              "<table border=\"1\" class=\"dataframe\">\n",
              "  <thead>\n",
              "    <tr style=\"text-align: right;\">\n",
              "      <th></th>\n",
              "      <th>Category</th>\n",
              "      <th>Resume</th>\n",
              "      <th>degree</th>\n",
              "      <th>experience</th>\n",
              "      <th>field_of_study</th>\n",
              "      <th>cleaned_resume</th>\n",
              "      <th>tokens</th>\n",
              "      <th>seq</th>\n",
              "    </tr>\n",
              "  </thead>\n",
              "  <tbody>\n",
              "    <tr>\n",
              "      <th>0</th>\n",
              "      <td>Data Science</td>\n",
              "      <td>Skills * Programming Languages: Python (pandas...</td>\n",
              "      <td>bachelors</td>\n",
              "      <td>72</td>\n",
              "      <td>computer science</td>\n",
              "      <td>skill programming language python panda numpy ...</td>\n",
              "      <td>[skill, programming, language, python, panda, ...</td>\n",
              "      <td>[2, 3, 4, 5, 6, 7, 8, 9, 10, 11, 12, 13, 14, 1...</td>\n",
              "    </tr>\n",
              "    <tr>\n",
              "      <th>1</th>\n",
              "      <td>Data Science</td>\n",
              "      <td>Education Details \\r\\nMay 2013 to May 2017 B.E...</td>\n",
              "      <td>bachelors</td>\n",
              "      <td>84</td>\n",
              "      <td>information technology</td>\n",
              "      <td>education detail may may uitrgpv data scientis...</td>\n",
              "      <td>[education, detail, may, may, uitrgpv, data, s...</td>\n",
              "      <td>[311, 74, 312, 312, 313, 75, 314, 75, 314, 315...</td>\n",
              "    </tr>\n",
              "    <tr>\n",
              "      <th>2</th>\n",
              "      <td>Data Science</td>\n",
              "      <td>Areas of Interest Deep Learning, Control Syste...</td>\n",
              "      <td>bachelors</td>\n",
              "      <td>96</td>\n",
              "      <td>computer science</td>\n",
              "      <td>area interest deep learning control system des...</td>\n",
              "      <td>[area, interest, deep, learning, control, syst...</td>\n",
              "      <td>[367, 368, 72, 15, 369, 300, 370, 3, 371, 372,...</td>\n",
              "    </tr>\n",
              "    <tr>\n",
              "      <th>3</th>\n",
              "      <td>Data Science</td>\n",
              "      <td>Skills â¢ R â¢ Python â¢ SAP HANA â¢ Table...</td>\n",
              "      <td>masters</td>\n",
              "      <td>149</td>\n",
              "      <td>computer science</td>\n",
              "      <td>skill r python sap hana tableau sap hana sql s...</td>\n",
              "      <td>[skill, r, python, sap, hana, tableau, sap, ha...</td>\n",
              "      <td>[2, 460, 5, 461, 462, 55, 461, 462, 11, 461, 4...</td>\n",
              "    </tr>\n",
              "    <tr>\n",
              "      <th>4</th>\n",
              "      <td>Data Science</td>\n",
              "      <td>Education Details \\r\\n MCA   YMCAUST,  Faridab...</td>\n",
              "      <td>masters</td>\n",
              "      <td>72</td>\n",
              "      <td>information technology</td>\n",
              "      <td>education detail mca ymcaust faridabad haryana...</td>\n",
              "      <td>[education, detail, mca, ymcaust, faridabad, h...</td>\n",
              "      <td>[311, 74, 684, 685, 686, 687, 75, 76, 688, 2, ...</td>\n",
              "    </tr>\n",
              "    <tr>\n",
              "      <th>...</th>\n",
              "      <td>...</td>\n",
              "      <td>...</td>\n",
              "      <td>...</td>\n",
              "      <td>...</td>\n",
              "      <td>...</td>\n",
              "      <td>...</td>\n",
              "      <td>...</td>\n",
              "      <td>...</td>\n",
              "    </tr>\n",
              "    <tr>\n",
              "      <th>957</th>\n",
              "      <td>Testing</td>\n",
              "      <td>Computer Skills: â¢ Proficient in MS office (...</td>\n",
              "      <td>bachelors</td>\n",
              "      <td>18</td>\n",
              "      <td>electrical</td>\n",
              "      <td>computer skill proficient m office word basic ...</td>\n",
              "      <td>[computer, skill, proficient, m, office, word,...</td>\n",
              "      <td>[67, 2, 1283, 464, 711, 29, 691, 429, 841, 111...</td>\n",
              "    </tr>\n",
              "    <tr>\n",
              "      <th>958</th>\n",
              "      <td>Testing</td>\n",
              "      <td>â Willingness to accept the challenges. â ...</td>\n",
              "      <td>bachelors</td>\n",
              "      <td>24</td>\n",
              "      <td>computer science</td>\n",
              "      <td>willingness accept challenge positive thinking...</td>\n",
              "      <td>[willingness, accept, challenge, positive, thi...</td>\n",
              "      <td>[919, 1330, 1331, 184, 1324, 798, 1610, 106, 1...</td>\n",
              "    </tr>\n",
              "    <tr>\n",
              "      <th>959</th>\n",
              "      <td>Testing</td>\n",
              "      <td>PERSONAL SKILLS â¢ Quick learner, â¢ Eagerne...</td>\n",
              "      <td>bachelors</td>\n",
              "      <td>0</td>\n",
              "      <td>electrical</td>\n",
              "      <td>personal skill quick learner eagerness learn n...</td>\n",
              "      <td>[personal, skill, quick, learner, eagerness, l...</td>\n",
              "      <td>[906, 2, 1606, 1610, 6778, 861, 481, 6069, 454...</td>\n",
              "    </tr>\n",
              "    <tr>\n",
              "      <th>960</th>\n",
              "      <td>Testing</td>\n",
              "      <td>COMPUTER SKILLS &amp; SOFTWARE KNOWLEDGE MS-Power ...</td>\n",
              "      <td>bachelors</td>\n",
              "      <td>18</td>\n",
              "      <td>computer science</td>\n",
              "      <td>computer skill software knowledge mspower poin...</td>\n",
              "      <td>[computer, skill, software, knowledge, mspower...</td>\n",
              "      <td>[67, 2, 403, 677, 6814, 1113, 464, 711, 466, 6...</td>\n",
              "    </tr>\n",
              "    <tr>\n",
              "      <th>961</th>\n",
              "      <td>Testing</td>\n",
              "      <td>Skill Set OS Windows XP/7/8/8.1/10 Database MY...</td>\n",
              "      <td>bachelors</td>\n",
              "      <td>90</td>\n",
              "      <td>computer science</td>\n",
              "      <td>skill set o window xp database mysql sql serve...</td>\n",
              "      <td>[skill, set, o, window, xp, database, mysql, s...</td>\n",
              "      <td>[2, 744, 3317, 409, 1110, 43, 45, 11, 634, 4, ...</td>\n",
              "    </tr>\n",
              "  </tbody>\n",
              "</table>\n",
              "<p>962 rows × 8 columns</p>\n",
              "</div>"
            ],
            "text/plain": [
              "         Category                                             Resume  \\\n",
              "0    Data Science  Skills * Programming Languages: Python (pandas...   \n",
              "1    Data Science  Education Details \\r\\nMay 2013 to May 2017 B.E...   \n",
              "2    Data Science  Areas of Interest Deep Learning, Control Syste...   \n",
              "3    Data Science  Skills â¢ R â¢ Python â¢ SAP HANA â¢ Table...   \n",
              "4    Data Science  Education Details \\r\\n MCA   YMCAUST,  Faridab...   \n",
              "..            ...                                                ...   \n",
              "957       Testing  Computer Skills: â¢ Proficient in MS office (...   \n",
              "958       Testing  â Willingness to accept the challenges. â ...   \n",
              "959       Testing  PERSONAL SKILLS â¢ Quick learner, â¢ Eagerne...   \n",
              "960       Testing  COMPUTER SKILLS & SOFTWARE KNOWLEDGE MS-Power ...   \n",
              "961       Testing  Skill Set OS Windows XP/7/8/8.1/10 Database MY...   \n",
              "\n",
              "        degree  experience          field_of_study  \\\n",
              "0    bachelors          72        computer science   \n",
              "1    bachelors          84  information technology   \n",
              "2    bachelors          96        computer science   \n",
              "3      masters         149        computer science   \n",
              "4      masters          72  information technology   \n",
              "..         ...         ...                     ...   \n",
              "957  bachelors          18              electrical   \n",
              "958  bachelors          24        computer science   \n",
              "959  bachelors           0              electrical   \n",
              "960  bachelors          18        computer science   \n",
              "961  bachelors          90        computer science   \n",
              "\n",
              "                                        cleaned_resume  \\\n",
              "0    skill programming language python panda numpy ...   \n",
              "1    education detail may may uitrgpv data scientis...   \n",
              "2    area interest deep learning control system des...   \n",
              "3    skill r python sap hana tableau sap hana sql s...   \n",
              "4    education detail mca ymcaust faridabad haryana...   \n",
              "..                                                 ...   \n",
              "957  computer skill proficient m office word basic ...   \n",
              "958  willingness accept challenge positive thinking...   \n",
              "959  personal skill quick learner eagerness learn n...   \n",
              "960  computer skill software knowledge mspower poin...   \n",
              "961  skill set o window xp database mysql sql serve...   \n",
              "\n",
              "                                                tokens  \\\n",
              "0    [skill, programming, language, python, panda, ...   \n",
              "1    [education, detail, may, may, uitrgpv, data, s...   \n",
              "2    [area, interest, deep, learning, control, syst...   \n",
              "3    [skill, r, python, sap, hana, tableau, sap, ha...   \n",
              "4    [education, detail, mca, ymcaust, faridabad, h...   \n",
              "..                                                 ...   \n",
              "957  [computer, skill, proficient, m, office, word,...   \n",
              "958  [willingness, accept, challenge, positive, thi...   \n",
              "959  [personal, skill, quick, learner, eagerness, l...   \n",
              "960  [computer, skill, software, knowledge, mspower...   \n",
              "961  [skill, set, o, window, xp, database, mysql, s...   \n",
              "\n",
              "                                                   seq  \n",
              "0    [2, 3, 4, 5, 6, 7, 8, 9, 10, 11, 12, 13, 14, 1...  \n",
              "1    [311, 74, 312, 312, 313, 75, 314, 75, 314, 315...  \n",
              "2    [367, 368, 72, 15, 369, 300, 370, 3, 371, 372,...  \n",
              "3    [2, 460, 5, 461, 462, 55, 461, 462, 11, 461, 4...  \n",
              "4    [311, 74, 684, 685, 686, 687, 75, 76, 688, 2, ...  \n",
              "..                                                 ...  \n",
              "957  [67, 2, 1283, 464, 711, 29, 691, 429, 841, 111...  \n",
              "958  [919, 1330, 1331, 184, 1324, 798, 1610, 106, 1...  \n",
              "959  [906, 2, 1606, 1610, 6778, 861, 481, 6069, 454...  \n",
              "960  [67, 2, 403, 677, 6814, 1113, 464, 711, 466, 6...  \n",
              "961  [2, 744, 3317, 409, 1110, 43, 45, 11, 634, 4, ...  \n",
              "\n",
              "[962 rows x 8 columns]"
            ]
          },
          "execution_count": 6,
          "metadata": {},
          "output_type": "execute_result"
        }
      ],
      "source": [
        "from collections import Counter\n",
        "\n",
        "# Convert the tokens to a list and store them all in a single list\n",
        "df_tabular_and_textual['tokens'] = df_tabular_and_textual['cleaned_resume'].apply(word_tokenize)\n",
        "all_tokens = [word for tokens in df_tabular_and_textual['tokens'] for word in tokens]\n",
        "\n",
        "# Store the words and their frequencies (needed for words which are rare byt here all are common but keeping it for formality)\n",
        "word_counts = Counter(all_tokens)\n",
        "\n",
        "# Vocabulary list, has two strings for padding and unknown words\n",
        "vocab = ['<PAD>','<UNK>'] + [word for word,_ in word_counts.items()]\n",
        "\n",
        "# The dictionary which assigns an index to each value in the vocab\n",
        "index = {word:idx for idx,word in enumerate(vocab)}\n",
        "\n",
        "# Convert all known tokens to their respective indices or mark them as unknown\n",
        "def tokens_to_indices(tokens):\n",
        "  return [index.get(token, index['<UNK>']) for token in tokens]\n",
        "\n",
        "max_token_seq_length = 200\n",
        "\n",
        "df_tabular_and_textual['seq'] = df_tabular_and_textual['tokens'].apply(lambda tokens: tokens[:max_token_seq_length]).apply(tokens_to_indices)\n",
        "df_tabular_and_textual"
      ]
    },
    {
      "cell_type": "markdown",
      "id": "oizBMqV2rV_Y",
      "metadata": {
        "id": "oizBMqV2rV_Y"
      },
      "source": [
        "Okay, so that's our textual data too. Let's put this in a single pipeline now.\n",
        "\n",
        "We'll use some methods from PyTorch to return the data as tensors which are what PyTorch works with, and we'll also pad up the missing data in sequences with a specific value."
      ]
    },
    {
      "cell_type": "code",
      "execution_count": 7,
      "id": "EU16MpPIrcN-",
      "metadata": {
        "colab": {
          "base_uri": "https://localhost:8080/"
        },
        "id": "EU16MpPIrcN-",
        "outputId": "48175d19-f440-437a-887d-249a68697186"
      },
      "outputs": [
        {
          "data": {
            "text/plain": [
              "(tensor([[ 1.0000,  0.0000,  0.0000,  ...,  0.0000,  0.0000, -0.1601],\n",
              "         [ 1.0000,  0.0000,  0.0000,  ...,  0.0000,  1.0000, -0.1131],\n",
              "         [ 1.0000,  0.0000,  0.0000,  ...,  0.0000,  0.0000, -0.0661],\n",
              "         ...,\n",
              "         [ 1.0000,  0.0000,  0.0000,  ...,  0.0000,  0.0000, -0.4418],\n",
              "         [ 1.0000,  0.0000,  0.0000,  ...,  0.0000,  0.0000, -0.3714],\n",
              "         [ 1.0000,  0.0000,  0.0000,  ...,  0.0000,  0.0000, -0.0896]]),\n",
              " tensor([[   2,    3,    4,  ...,  111,   93,    5],\n",
              "         [ 311,   74,  312,  ...,    0,    0,    0],\n",
              "         [ 367,  368,   72,  ...,    0,    0,    0],\n",
              "         ...,\n",
              "         [ 906,    2, 1606,  ..., 2356, 1407, 2599],\n",
              "         [  67,    2,  403,  ...,    0,    0,    0],\n",
              "         [   2,  744, 3317,  ...,  498,  403,  636]]))"
            ]
          },
          "execution_count": 7,
          "metadata": {},
          "output_type": "execute_result"
        }
      ],
      "source": [
        "import torch\n",
        "from torch.nn.utils.rnn import pad_sequence\n",
        "\n",
        "def split_data(df):\n",
        "  # Make a new dataframe which has the tabular features\n",
        "  df_t = extract_tabular_features(df)\n",
        "\n",
        "  # Encode and scale the required features\n",
        "  X_tab = encode_tabular_data(df_t)\n",
        "\n",
        "  # Do the textual processing\n",
        "  df_t['cleaned_resume'] = df_t['Resume'].apply(clean_text)\n",
        "  df_t['tokens'] = df_t['cleaned_resume'].apply(word_tokenize)\n",
        "  df_t['seq'] = df_t['tokens'].apply(lambda tokens: tokens[:max_token_seq_length]).apply(tokens_to_indices)\n",
        "\n",
        "  # Convert the sequcnes to a list and pad the missing values\n",
        "  seqs = [torch.tensor(seq, dtype=torch.long) for seq in df_t['seq'].values]\n",
        "  pad_seqs = pad_sequence(seqs, batch_first=True, padding_value = index['<PAD>'])\n",
        "\n",
        "  return torch.tensor(X_tab, dtype=torch.float32), pad_seqs\n",
        "\n",
        "split_data(df)"
      ]
    },
    {
      "cell_type": "markdown",
      "id": "u8URXxDHu1Ym",
      "metadata": {
        "id": "u8URXxDHu1Ym"
      },
      "source": [
        "Okay, so now we're good to go.. but we don't have labels!\n",
        "\n",
        "## Synthesizing Labels and Splitting into Sets\n",
        "\n",
        "Let's see what all categories are available for the jobs."
      ]
    },
    {
      "cell_type": "code",
      "execution_count": 8,
      "id": "d445f26e",
      "metadata": {
        "colab": {
          "base_uri": "https://localhost:8080/"
        },
        "id": "d445f26e",
        "outputId": "7d2c7790-a173-4012-dedd-df1400f2dd74"
      },
      "outputs": [
        {
          "data": {
            "text/plain": [
              "array(['Data Science', 'HR', 'Advocate', 'Arts', 'Web Designing',\n",
              "       'Mechanical Engineer', 'Sales', 'Health and fitness',\n",
              "       'Civil Engineer', 'Java Developer', 'Business Analyst',\n",
              "       'SAP Developer', 'Automation Testing', 'Electrical Engineering',\n",
              "       'Operations Manager', 'Python Developer', 'DevOps Engineer',\n",
              "       'Network Security Engineer', 'PMO', 'Database', 'Hadoop',\n",
              "       'ETL Developer', 'DotNet Developer', 'Blockchain', 'Testing'],\n",
              "      dtype=object)"
            ]
          },
          "execution_count": 8,
          "metadata": {},
          "output_type": "execute_result"
        }
      ],
      "source": [
        "df['Category'].unique()"
      ]
    },
    {
      "cell_type": "markdown",
      "id": "aeuqeKI8u_08",
      "metadata": {
        "id": "aeuqeKI8u_08"
      },
      "source": [
        "What we can do is implement a score system. We will scan through resume for specific keywords pertaining to the job and increment the score whenever we find one. Having a masters or doctorate increases the score, so does having more experience. We then define an optimum threshold for the score and then assign the label based on it. Below is the implementation."
      ]
    },
    {
      "cell_type": "code",
      "execution_count": 9,
      "id": "52bad65f",
      "metadata": {
        "colab": {
          "base_uri": "https://localhost:8080/",
          "height": 178
        },
        "id": "52bad65f",
        "outputId": "351eab19-308b-4f38-e1bd-41db564cccda"
      },
      "outputs": [
        {
          "data": {
            "text/plain": [
              "shortlisted\n",
              "1    618\n",
              "0    344\n",
              "Name: count, dtype: int64"
            ]
          },
          "execution_count": 9,
          "metadata": {},
          "output_type": "execute_result"
        }
      ],
      "source": [
        "def synthesize_label(row):\n",
        "    # Define job-specific keyword map\n",
        "    keywords_map = {\n",
        "    \"Data Science\": [\n",
        "        \"python\", \"pandas\", \"numpy\", \"scikitlearn\", \"matplotlib\", \"sql\", \"machine\", \"learning\", \"regression\", \"svm\",\n",
        "        \"nave\", \"bayes\", \"knn\", \"random\", \"forest\", \"decision\", \"tree\", \"cluster\", \"analysis\", \"embedding\",\n",
        "        \"sentiment\", \"natural\", \"processing\", \"dimensionality\", \"reduction\", \"topic\", \"modelling\", \"lda\", \"nmf\",\n",
        "        \"neural\", \"net\", \"database\", \"visualization\", \"mysql\", \"sqlserver\", \"tableau\", \"analytics\", \"research\",\n",
        "        \"classification\", \"model\", \"mining\", \"nlp\", \"dashboard\", \"reporting\", \"analytic\", \"statistic\", \"kmeans\",\n",
        "        \"algorithm\"\n",
        "    ],\n",
        "    \"HR\": [\n",
        "        \"hr\", \"payroll\", \"employee\", \"recruitment\", \"compliance\", \"interview\", \"training\", \"resource\",\n",
        "        \"administration\", \"coordination\", \"salary\", \"attendance\", \"onboarding\"\n",
        "    ],\n",
        "    \"Advocate\": [\n",
        "        \"advocate\", \"legal\", \"law\", \"litigation\", \"dispute\", \"compliance\", \"agreement\", \"contract\", \"petition\",\n",
        "        \"arbitration\", \"court\"\n",
        "    ],\n",
        "    \"Arts\": [\n",
        "        \"art\", \"painting\", \"drawing\", \"design\", \"creative\", \"portfolio\", \"exhibition\", \"sculpture\"\n",
        "    ],\n",
        "    \"Web Designing\": [\n",
        "        \"web\", \"html\", \"css\", \"javascript\", \"jquery\", \"bootstrap\", \"responsive\", \"design\", \"photoshop\",\n",
        "        \"illustrator\", \"ux\", \"ui\"\n",
        "    ],\n",
        "    \"Mechanical Engineer\": [\n",
        "        \"mechanical\", \"autocad\", \"solidworks\", \"catia\", \"manufacturing\", \"cad\", \"cam\", \"thermal\", \"production\",\n",
        "        \"maintenance\", \"machinery\", \"engineering\"\n",
        "    ],\n",
        "    \"Sales\": [\n",
        "        \"sales\", \"marketing\", \"client\", \"customer\", \"negotiation\", \"lead\", \"crm\", \"business\", \"pitch\", \"revenue\",\n",
        "        \"target\"\n",
        "    ],\n",
        "    \"Health and fitness\": [\n",
        "        \"fitness\", \"health\", \"trainer\", \"nutrition\", \"workout\", \"gym\", \"yoga\", \"exercise\", \"wellness\", \"diet\"\n",
        "    ],\n",
        "    \"Civil Engineer\": [\n",
        "        \"civil\", \"construction\", \"site\", \"structural\", \"autocad\", \"estimation\", \"project\", \"surveying\", \"planning\",\n",
        "        \"design\", \"engineering\"\n",
        "    ],\n",
        "    \"Java Developer\": [\n",
        "        \"java\", \"spring\", \"hibernate\", \"j2ee\", \"servlet\", \"jsp\", \"maven\", \"eclipse\", \"api\", \"rest\", \"jdbc\",\n",
        "        \"developer\"\n",
        "    ],\n",
        "    \"Business Analyst\": [\n",
        "        \"business\", \"analyst\", \"analysis\", \"requirement\", \"process\", \"stakeholder\", \"documentation\", \"modeling\",\n",
        "        \"gap\", \"solution\"\n",
        "    ],\n",
        "    \"SAP Developer\": [\n",
        "        \"sap\", \"hana\", \"module\", \"configuration\", \"implementation\", \"workflow\"\n",
        "    ],\n",
        "    \"Automation Testing\": [\n",
        "        \"automation\", \"selenium\", \"testing\", \"test\", \"script\", \"framework\", \"junit\", \"cucumber\", \"regression\",\n",
        "        \"bug\", \"defect\"\n",
        "    ],\n",
        "    \"Electrical Engineering\": [\n",
        "        \"electrical\", \"circuit\", \"transformer\", \"plc\", \"scada\", \"switchgear\", \"relay\", \"power\", \"distribution\",\n",
        "        \"maintenance\", \"engineering\"\n",
        "    ],\n",
        "    \"Operations Manager\": [\n",
        "        \"operations\", \"manager\", \"logistics\", \"supply\", \"chain\", \"inventory\", \"process\", \"planning\", \"efficiency\",\n",
        "        \"kpi\"\n",
        "    ],\n",
        "    \"Python Developer\": [\n",
        "        \"python\", \"django\", \"flask\", \"scripting\", \"automation\", \"panda\", \"numpy\", \"api\", \"rest\", \"development\"\n",
        "    ],\n",
        "    \"DevOps Engineer\": [\n",
        "        \"devops\", \"docker\", \"kubernetes\", \"jenkins\", \"ci\", \"cd\", \"ansible\", \"automation\", \"aws\", \"monitoring\",\n",
        "        \"pipeline\"\n",
        "    ],\n",
        "    \"Network Security Engineer\": [\n",
        "        \"network\", \"security\", \"firewall\", \"cisco\", \"vpn\", \"intrusion\", \"detection\", \"ids\", \"ips\", \"encryption\"\n",
        "    ],\n",
        "    \"PMO\": [\n",
        "        \"pmo\", \"project\", \"management\", \"office\", \"governance\", \"report\", \"risk\", \"compliance\", \"scheduling\"\n",
        "    ],\n",
        "    \"Database\": [\n",
        "        \"database\", \"sql\", \"oracle\", \"mysql\", \"postgresql\", \"query\", \"normalization\", \"indexing\", \"schema\", \"dba\"\n",
        "    ],\n",
        "    \"Hadoop\": [\n",
        "        \"hadoop\", \"spark\", \"hive\", \"pig\", \"sqoop\", \"big\", \"data\", \"mapreduce\", \"hdfs\", \"yarn\", \"pyspark\"\n",
        "    ],\n",
        "    \"ETL Developer\": [\n",
        "        \"etl\", \"informatica\", \"datastage\", \"talend\", \"pipeline\", \"extraction\", \"transformation\", \"loading\",\n",
        "        \"datawarehouse\"\n",
        "    ],\n",
        "    \"DotNet Developer\": [\n",
        "        \"dotnet\", \"csharp\", \"asp\", \"mvc\", \".net\", \"visual\", \"studio\", \"entity\", \"framework\", \"webform\"\n",
        "    ],\n",
        "    \"Blockchain\": [\n",
        "        \"blockchain\", \"ethereum\", \"smart\", \"contract\", \"solidity\", \"crypto\", \"bitcoin\", \"ledger\", \"distributed\"\n",
        "    ],\n",
        "    \"Testing\": [\n",
        "        \"testing\", \"test\", \"manual\", \"automation\", \"bug\", \"defect\", \"testcase\", \"regression\", \"qa\", \"quality\"\n",
        "    ]\n",
        "    }\n",
        "\n",
        "\n",
        "    score = 0\n",
        "    job_field = row['Category']\n",
        "    experience = float(row['experience'])\n",
        "\n",
        "    # Sufficient experience\n",
        "    if experience >= 36:\n",
        "        score += 1\n",
        "\n",
        "    # Matching keywords in resume\n",
        "    resume = row['cleaned_resume']\n",
        "    keywords = keywords_map.get(job_field, [])\n",
        "    for word in keywords:\n",
        "        if word in resume:\n",
        "            score += 1\n",
        "            break\n",
        "\n",
        "    # Degree bonus\n",
        "    if row['degree'].lower() in ['masters', 'phd']:\n",
        "        score += 1\n",
        "\n",
        "    return int(score >= 2)\n",
        "\n",
        "df_tabular_and_textual['shortlisted'] = df_tabular_and_textual.apply(synthesize_label, axis=1)\n",
        "df_tabular_and_textual['shortlisted'].value_counts()"
      ]
    },
    {
      "cell_type": "markdown",
      "id": "yyzVhBQaviBQ",
      "metadata": {
        "id": "yyzVhBQaviBQ"
      },
      "source": [
        "Okay, so the ratio is somewhat 2:1 which is quite good. Now that we have the data.. Let's split our dataset into training and test sets."
      ]
    },
    {
      "cell_type": "code",
      "execution_count": 10,
      "id": "362db530",
      "metadata": {
        "id": "362db530"
      },
      "outputs": [],
      "source": [
        "from sklearn.model_selection import train_test_split\n",
        "\n",
        "df['shortlisted'] = df_tabular_and_textual['shortlisted']\n",
        "X = df.drop(['shortlisted'], axis=1)\n",
        "y = df['shortlisted']\n",
        "\n",
        "X_train, X_test, y_train, y_test = train_test_split(X, y, train_size=0.7, stratify=None)"
      ]
    },
    {
      "cell_type": "markdown",
      "id": "dtAROVYkwdZc",
      "metadata": {
        "id": "dtAROVYkwdZc"
      },
      "source": [
        "## Making the Models\n",
        "\n",
        "Let's first split our training data."
      ]
    },
    {
      "cell_type": "code",
      "execution_count": 11,
      "id": "6af758ef",
      "metadata": {
        "id": "6af758ef"
      },
      "outputs": [],
      "source": [
        "X_train_tab, X_train_text = split_data(X_train)"
      ]
    },
    {
      "cell_type": "markdown",
      "id": "7r_oRx2TwoTP",
      "metadata": {
        "id": "7r_oRx2TwoTP"
      },
      "source": [
        "### 1. Making the MLP\n",
        "\n",
        "Below is the implementation of the MLP used for this task."
      ]
    },
    {
      "cell_type": "code",
      "execution_count": 12,
      "id": "44a627a3",
      "metadata": {
        "id": "44a627a3"
      },
      "outputs": [],
      "source": [
        "import torch\n",
        "import torch.nn as nn\n",
        "\n",
        "class TabularMLP(nn.Module):\n",
        "    def __init__(self, input_dims) -> None:\n",
        "        super().__init__()\n",
        "\n",
        "        # Defined a back and front as we require the last feature vector before the output layer for fusion.\n",
        "\n",
        "        self.model_back = nn.Sequential(\n",
        "            nn.Linear(input_dims, 128),\n",
        "            nn.ReLU(),\n",
        "            nn.Dropout(0.3),\n",
        "            nn.Linear(128,64),\n",
        "            nn.ReLU()\n",
        "        )\n",
        "\n",
        "        self.model_head = nn.Sequential(\n",
        "            nn.Dropout(0.3),\n",
        "            nn.Linear(64,1),\n",
        "            nn.Sigmoid()\n",
        "        )\n",
        "\n",
        "    def forward(self,x,return_features=False):\n",
        "        # Return the features if specified or else return the output of the model\n",
        "\n",
        "        features = self.model_back(x)\n",
        "        if return_features:\n",
        "          return features\n",
        "        else:\n",
        "          return self.model_head(features)"
      ]
    },
    {
      "cell_type": "markdown",
      "id": "HaM2kGjew97-",
      "metadata": {
        "id": "HaM2kGjew97-"
      },
      "source": [
        "Next up is the training loop."
      ]
    },
    {
      "cell_type": "code",
      "execution_count": 24,
      "id": "89bce887",
      "metadata": {
        "colab": {
          "base_uri": "https://localhost:8080/"
        },
        "id": "89bce887",
        "outputId": "c296e716-0e7e-4ca3-b16b-198ffa03248d"
      },
      "outputs": [
        {
          "ename": "RuntimeError",
          "evalue": "CUDA unknown error - this may be due to an incorrectly set up environment, e.g. changing env variable CUDA_VISIBLE_DEVICES after program start. Setting the available devices to be zero.",
          "output_type": "error",
          "traceback": [
            "\u001b[31m---------------------------------------------------------------------------\u001b[39m",
            "\u001b[31mRuntimeError\u001b[39m                              Traceback (most recent call last)",
            "\u001b[36mCell\u001b[39m\u001b[36m \u001b[39m\u001b[32mIn[24]\u001b[39m\u001b[32m, line 14\u001b[39m\n\u001b[32m     11\u001b[39m optimizer = torch.optim.Adam(tab_model.parameters(), lr=\u001b[32m0.001\u001b[39m)\n\u001b[32m     13\u001b[39m \u001b[38;5;66;03m# Load the model to the device\u001b[39;00m\n\u001b[32m---> \u001b[39m\u001b[32m14\u001b[39m \u001b[43mtab_model\u001b[49m\u001b[43m.\u001b[49m\u001b[43mto\u001b[49m\u001b[43m(\u001b[49m\u001b[43mdevice\u001b[49m\u001b[43m)\u001b[49m\n\u001b[32m     16\u001b[39m \u001b[38;5;66;03m# Convert the label to tensor as well\u001b[39;00m\n\u001b[32m     17\u001b[39m y_train_tensor = torch.tensor(y_train.to_numpy(), dtype=torch.float32).view(-\u001b[32m1\u001b[39m,\u001b[32m1\u001b[39m)\n",
            "\u001b[36mFile \u001b[39m\u001b[32m~/miniforge3/lib/python3.12/site-packages/torch/nn/modules/module.py:1343\u001b[39m, in \u001b[36mModule.to\u001b[39m\u001b[34m(self, *args, **kwargs)\u001b[39m\n\u001b[32m   1340\u001b[39m         \u001b[38;5;28;01melse\u001b[39;00m:\n\u001b[32m   1341\u001b[39m             \u001b[38;5;28;01mraise\u001b[39;00m\n\u001b[32m-> \u001b[39m\u001b[32m1343\u001b[39m \u001b[38;5;28;01mreturn\u001b[39;00m \u001b[38;5;28;43mself\u001b[39;49m\u001b[43m.\u001b[49m\u001b[43m_apply\u001b[49m\u001b[43m(\u001b[49m\u001b[43mconvert\u001b[49m\u001b[43m)\u001b[49m\n",
            "\u001b[36mFile \u001b[39m\u001b[32m~/miniforge3/lib/python3.12/site-packages/torch/nn/modules/module.py:903\u001b[39m, in \u001b[36mModule._apply\u001b[39m\u001b[34m(self, fn, recurse)\u001b[39m\n\u001b[32m    901\u001b[39m \u001b[38;5;28;01mif\u001b[39;00m recurse:\n\u001b[32m    902\u001b[39m     \u001b[38;5;28;01mfor\u001b[39;00m module \u001b[38;5;129;01min\u001b[39;00m \u001b[38;5;28mself\u001b[39m.children():\n\u001b[32m--> \u001b[39m\u001b[32m903\u001b[39m         \u001b[43mmodule\u001b[49m\u001b[43m.\u001b[49m\u001b[43m_apply\u001b[49m\u001b[43m(\u001b[49m\u001b[43mfn\u001b[49m\u001b[43m)\u001b[49m\n\u001b[32m    905\u001b[39m \u001b[38;5;28;01mdef\u001b[39;00m\u001b[38;5;250m \u001b[39m\u001b[34mcompute_should_use_set_data\u001b[39m(tensor, tensor_applied):\n\u001b[32m    906\u001b[39m     \u001b[38;5;28;01mif\u001b[39;00m torch._has_compatible_shallow_copy_type(tensor, tensor_applied):\n\u001b[32m    907\u001b[39m         \u001b[38;5;66;03m# If the new tensor has compatible tensor type as the existing tensor,\u001b[39;00m\n\u001b[32m    908\u001b[39m         \u001b[38;5;66;03m# the current behavior is to change the tensor in-place using `.data =`,\u001b[39;00m\n\u001b[32m   (...)\u001b[39m\u001b[32m    913\u001b[39m         \u001b[38;5;66;03m# global flag to let the user control whether they want the future\u001b[39;00m\n\u001b[32m    914\u001b[39m         \u001b[38;5;66;03m# behavior of overwriting the existing tensor or not.\u001b[39;00m\n",
            "\u001b[36mFile \u001b[39m\u001b[32m~/miniforge3/lib/python3.12/site-packages/torch/nn/modules/module.py:903\u001b[39m, in \u001b[36mModule._apply\u001b[39m\u001b[34m(self, fn, recurse)\u001b[39m\n\u001b[32m    901\u001b[39m \u001b[38;5;28;01mif\u001b[39;00m recurse:\n\u001b[32m    902\u001b[39m     \u001b[38;5;28;01mfor\u001b[39;00m module \u001b[38;5;129;01min\u001b[39;00m \u001b[38;5;28mself\u001b[39m.children():\n\u001b[32m--> \u001b[39m\u001b[32m903\u001b[39m         \u001b[43mmodule\u001b[49m\u001b[43m.\u001b[49m\u001b[43m_apply\u001b[49m\u001b[43m(\u001b[49m\u001b[43mfn\u001b[49m\u001b[43m)\u001b[49m\n\u001b[32m    905\u001b[39m \u001b[38;5;28;01mdef\u001b[39;00m\u001b[38;5;250m \u001b[39m\u001b[34mcompute_should_use_set_data\u001b[39m(tensor, tensor_applied):\n\u001b[32m    906\u001b[39m     \u001b[38;5;28;01mif\u001b[39;00m torch._has_compatible_shallow_copy_type(tensor, tensor_applied):\n\u001b[32m    907\u001b[39m         \u001b[38;5;66;03m# If the new tensor has compatible tensor type as the existing tensor,\u001b[39;00m\n\u001b[32m    908\u001b[39m         \u001b[38;5;66;03m# the current behavior is to change the tensor in-place using `.data =`,\u001b[39;00m\n\u001b[32m   (...)\u001b[39m\u001b[32m    913\u001b[39m         \u001b[38;5;66;03m# global flag to let the user control whether they want the future\u001b[39;00m\n\u001b[32m    914\u001b[39m         \u001b[38;5;66;03m# behavior of overwriting the existing tensor or not.\u001b[39;00m\n",
            "\u001b[36mFile \u001b[39m\u001b[32m~/miniforge3/lib/python3.12/site-packages/torch/nn/modules/module.py:930\u001b[39m, in \u001b[36mModule._apply\u001b[39m\u001b[34m(self, fn, recurse)\u001b[39m\n\u001b[32m    926\u001b[39m \u001b[38;5;66;03m# Tensors stored in modules are graph leaves, and we don't want to\u001b[39;00m\n\u001b[32m    927\u001b[39m \u001b[38;5;66;03m# track autograd history of `param_applied`, so we have to use\u001b[39;00m\n\u001b[32m    928\u001b[39m \u001b[38;5;66;03m# `with torch.no_grad():`\u001b[39;00m\n\u001b[32m    929\u001b[39m \u001b[38;5;28;01mwith\u001b[39;00m torch.no_grad():\n\u001b[32m--> \u001b[39m\u001b[32m930\u001b[39m     param_applied = \u001b[43mfn\u001b[49m\u001b[43m(\u001b[49m\u001b[43mparam\u001b[49m\u001b[43m)\u001b[49m\n\u001b[32m    931\u001b[39m p_should_use_set_data = compute_should_use_set_data(param, param_applied)\n\u001b[32m    933\u001b[39m \u001b[38;5;66;03m# subclasses may have multiple child tensors so we need to use swap_tensors\u001b[39;00m\n",
            "\u001b[36mFile \u001b[39m\u001b[32m~/miniforge3/lib/python3.12/site-packages/torch/nn/modules/module.py:1329\u001b[39m, in \u001b[36mModule.to.<locals>.convert\u001b[39m\u001b[34m(t)\u001b[39m\n\u001b[32m   1322\u001b[39m     \u001b[38;5;28;01mif\u001b[39;00m convert_to_format \u001b[38;5;129;01mis\u001b[39;00m \u001b[38;5;129;01mnot\u001b[39;00m \u001b[38;5;28;01mNone\u001b[39;00m \u001b[38;5;129;01mand\u001b[39;00m t.dim() \u001b[38;5;129;01min\u001b[39;00m (\u001b[32m4\u001b[39m, \u001b[32m5\u001b[39m):\n\u001b[32m   1323\u001b[39m         \u001b[38;5;28;01mreturn\u001b[39;00m t.to(\n\u001b[32m   1324\u001b[39m             device,\n\u001b[32m   1325\u001b[39m             dtype \u001b[38;5;28;01mif\u001b[39;00m t.is_floating_point() \u001b[38;5;129;01mor\u001b[39;00m t.is_complex() \u001b[38;5;28;01melse\u001b[39;00m \u001b[38;5;28;01mNone\u001b[39;00m,\n\u001b[32m   1326\u001b[39m             non_blocking,\n\u001b[32m   1327\u001b[39m             memory_format=convert_to_format,\n\u001b[32m   1328\u001b[39m         )\n\u001b[32m-> \u001b[39m\u001b[32m1329\u001b[39m     \u001b[38;5;28;01mreturn\u001b[39;00m \u001b[43mt\u001b[49m\u001b[43m.\u001b[49m\u001b[43mto\u001b[49m\u001b[43m(\u001b[49m\n\u001b[32m   1330\u001b[39m \u001b[43m        \u001b[49m\u001b[43mdevice\u001b[49m\u001b[43m,\u001b[49m\n\u001b[32m   1331\u001b[39m \u001b[43m        \u001b[49m\u001b[43mdtype\u001b[49m\u001b[43m \u001b[49m\u001b[38;5;28;43;01mif\u001b[39;49;00m\u001b[43m \u001b[49m\u001b[43mt\u001b[49m\u001b[43m.\u001b[49m\u001b[43mis_floating_point\u001b[49m\u001b[43m(\u001b[49m\u001b[43m)\u001b[49m\u001b[43m \u001b[49m\u001b[38;5;129;43;01mor\u001b[39;49;00m\u001b[43m \u001b[49m\u001b[43mt\u001b[49m\u001b[43m.\u001b[49m\u001b[43mis_complex\u001b[49m\u001b[43m(\u001b[49m\u001b[43m)\u001b[49m\u001b[43m \u001b[49m\u001b[38;5;28;43;01melse\u001b[39;49;00m\u001b[43m \u001b[49m\u001b[38;5;28;43;01mNone\u001b[39;49;00m\u001b[43m,\u001b[49m\n\u001b[32m   1332\u001b[39m \u001b[43m        \u001b[49m\u001b[43mnon_blocking\u001b[49m\u001b[43m,\u001b[49m\n\u001b[32m   1333\u001b[39m \u001b[43m    \u001b[49m\u001b[43m)\u001b[49m\n\u001b[32m   1334\u001b[39m \u001b[38;5;28;01mexcept\u001b[39;00m \u001b[38;5;167;01mNotImplementedError\u001b[39;00m \u001b[38;5;28;01mas\u001b[39;00m e:\n\u001b[32m   1335\u001b[39m     \u001b[38;5;28;01mif\u001b[39;00m \u001b[38;5;28mstr\u001b[39m(e) == \u001b[33m\"\u001b[39m\u001b[33mCannot copy out of meta tensor; no data!\u001b[39m\u001b[33m\"\u001b[39m:\n",
            "\u001b[36mFile \u001b[39m\u001b[32m~/miniforge3/lib/python3.12/site-packages/torch/cuda/__init__.py:319\u001b[39m, in \u001b[36m_lazy_init\u001b[39m\u001b[34m()\u001b[39m\n\u001b[32m    317\u001b[39m \u001b[38;5;28;01mif\u001b[39;00m \u001b[33m\"\u001b[39m\u001b[33mCUDA_MODULE_LOADING\u001b[39m\u001b[33m\"\u001b[39m \u001b[38;5;129;01mnot\u001b[39;00m \u001b[38;5;129;01min\u001b[39;00m os.environ:\n\u001b[32m    318\u001b[39m     os.environ[\u001b[33m\"\u001b[39m\u001b[33mCUDA_MODULE_LOADING\u001b[39m\u001b[33m\"\u001b[39m] = \u001b[33m\"\u001b[39m\u001b[33mLAZY\u001b[39m\u001b[33m\"\u001b[39m\n\u001b[32m--> \u001b[39m\u001b[32m319\u001b[39m \u001b[43mtorch\u001b[49m\u001b[43m.\u001b[49m\u001b[43m_C\u001b[49m\u001b[43m.\u001b[49m\u001b[43m_cuda_init\u001b[49m\u001b[43m(\u001b[49m\u001b[43m)\u001b[49m\n\u001b[32m    320\u001b[39m \u001b[38;5;66;03m# Some of the queued calls may reentrantly call _lazy_init();\u001b[39;00m\n\u001b[32m    321\u001b[39m \u001b[38;5;66;03m# we need to just return without initializing in that case.\u001b[39;00m\n\u001b[32m    322\u001b[39m \u001b[38;5;66;03m# However, we must not let any *other* threads in!\u001b[39;00m\n\u001b[32m    323\u001b[39m _tls.is_initializing = \u001b[38;5;28;01mTrue\u001b[39;00m\n",
            "\u001b[31mRuntimeError\u001b[39m: CUDA unknown error - this may be due to an incorrectly set up environment, e.g. changing env variable CUDA_VISIBLE_DEVICES after program start. Setting the available devices to be zero."
          ]
        }
      ],
      "source": [
        "from torch.utils.data import TensorDataset, DataLoader\n",
        "\n",
        "# Set the training to the GPU if available\n",
        "device = torch.device(\"cuda\" if torch.cuda.is_available else \"cpu\")\n",
        "\n",
        "# Initialize the model\n",
        "tab_model= TabularMLP(X_train_tab.shape[1])\n",
        "\n",
        "# We will use BCELoss as the sigmoid is already present and we'll use Adam as our optimizer\n",
        "loss_fn = nn.BCELoss()\n",
        "optimizer = torch.optim.Adam(tab_model.parameters(), lr=0.001)\n",
        "\n",
        "# Load the model to the device\n",
        "tab_model.to(device)\n",
        "\n",
        "# Convert the label to tensor as well\n",
        "y_train_tensor = torch.tensor(y_train.to_numpy(), dtype=torch.float32).view(-1,1)\n",
        "\n",
        "# Load the features and labels onto a dataset and dataloader\n",
        "dataset = TensorDataset(X_train_tab, y_train_tensor)\n",
        "train_loader = DataLoader(dataset, batch_size=32, shuffle=True)\n",
        "\n",
        "# Training loop\n",
        "for epoch in range(30):\n",
        "    tab_model.train()\n",
        "    running_loss = 0.0\n",
        "\n",
        "    for x_i, y_i in train_loader:\n",
        "        x_i = x_i.to(device)\n",
        "        y_i = y_i.to(device)\n",
        "\n",
        "        optimizer.zero_grad()\n",
        "        outs = tab_model(x_i)\n",
        "\n",
        "        loss = loss_fn(outs, y_i)\n",
        "        loss.backward()\n",
        "        optimizer.step()\n",
        "\n",
        "        running_loss+=loss.item()\n",
        "\n",
        "    print(f'Epoch {epoch+1}, Loss: {running_loss/train_loader.batch_size}')"
      ]
    },
    {
      "cell_type": "markdown",
      "id": "bGoQ5Y6Jx0FC",
      "metadata": {
        "id": "bGoQ5Y6Jx0FC"
      },
      "source": [
        "It seems that our training loss is quite low.. Let's see how it performs against the test data."
      ]
    },
    {
      "cell_type": "code",
      "execution_count": null,
      "id": "GveMLotRx6Gd",
      "metadata": {
        "id": "GveMLotRx6Gd"
      },
      "outputs": [],
      "source": [
        "X_test_tab, X_test_text = split_data(X_test)\n",
        "y_test_tensor = torch.tensor(y_test.to_numpy(), dtype = torch.float32)\n",
        "\n",
        "X_test_tab = X_test_tab.to(device)\n",
        "y_test_tensor = y_test_tensor.to(device)\n",
        "tab_model.eval()\n",
        "with torch.no_grad():\n",
        "  preds = tab_model(X_test_tab)\n",
        "\n",
        "preds = preds.cpu().numpy()\n",
        "preds = (preds>0.5).astype(int)"
      ]
    },
    {
      "cell_type": "code",
      "execution_count": null,
      "id": "uRTb6-wlyf7W",
      "metadata": {
        "colab": {
          "base_uri": "https://localhost:8080/",
          "height": 663
        },
        "id": "uRTb6-wlyf7W",
        "outputId": "a31ab753-122f-4e57-f464-07c468147935"
      },
      "outputs": [
        {
          "data": {
            "image/png": "[encoded data removed]",
            "text/plain": [
              "<Figure size 600x600 with 2 Axes>"
            ]
          },
          "metadata": {},
          "output_type": "display_data"
        },
        {
          "name": "stdout",
          "output_type": "stream",
          "text": [
            "              precision    recall  f1-score   support\n",
            "\n",
            "           0       1.00      0.80      0.89       103\n",
            "           1       0.90      1.00      0.95       186\n",
            "\n",
            "    accuracy                           0.93       289\n",
            "   macro avg       0.95      0.90      0.92       289\n",
            "weighted avg       0.93      0.93      0.93       289\n",
            "\n"
          ]
        }
      ],
      "source": [
        "from sklearn.metrics import confusion_matrix, classification_report\n",
        "\n",
        "from sklearn.metrics import confusion_matrix, ConfusionMatrixDisplay\n",
        "import matplotlib.pyplot as plt\n",
        "\n",
        "def plot_confusion_matrix(y_true, y_pred, labels=[0, 1], normalize=False, title=\"Confusion Matrix\"):\n",
        "    cm = confusion_matrix(y_true, y_pred, labels=labels, normalize='true' if normalize else None)\n",
        "    disp = ConfusionMatrixDisplay(confusion_matrix=cm, display_labels=labels)\n",
        "\n",
        "    fig, ax = plt.subplots(figsize=(6, 6))\n",
        "    disp.plot(ax=ax, cmap=plt.cm.Blues, values_format=\".2f\" if normalize else \"d\")\n",
        "    plt.title(title)\n",
        "    plt.grid(False)\n",
        "    plt.show()\n",
        "\n",
        "plot_confusion_matrix(y_test, preds, normalize=False)\n",
        "print(classification_report(y_test, preds))"
      ]
    },
    {
      "cell_type": "markdown",
      "id": "2Ndyp4euzay3",
      "metadata": {
        "id": "2Ndyp4euzay3"
      },
      "source": [
        "The model seems to be doing quite good honestly! That's.. mindblowing!\n",
        "\n",
        "### 2. Making the LSTM\n",
        "\n",
        "Below is the LSTM classifier used for this task."
      ]
    },
    {
      "cell_type": "code",
      "execution_count": null,
      "id": "129e3b8a",
      "metadata": {
        "id": "129e3b8a"
      },
      "outputs": [],
      "source": [
        "class TextLSTM(nn.Module):\n",
        "    def __init__(self, vocab_size, embedding_dim, hidden_dim):\n",
        "        super().__init__()\n",
        "\n",
        "        # Embedding to be used\n",
        "        self.embedding = nn.Embedding(vocab_size,embedding_dim, padding_idx=index['<PAD>'])\n",
        "\n",
        "        # LSTM\n",
        "        self.lstm = nn.LSTM(embedding_dim,hidden_dim,batch_first=True)\n",
        "\n",
        "        # Again separating the output layer\n",
        "        self.classifier_back = nn.Sequential(\n",
        "            nn.Linear(hidden_dim,64),\n",
        "            nn.ReLU()\n",
        "        )\n",
        "        self.classifier_head = nn.Sequential(\n",
        "            nn.Linear(64,1),\n",
        "            nn.Sigmoid()\n",
        "        )\n",
        "\n",
        "    def forward(self,x,return_features=False):\n",
        "        embedded = self.embedding(x)\n",
        "        _, (hidden, _) = self.lstm(embedded)\n",
        "        features = self.classifier_back(hidden[-1])\n",
        "        if return_features:\n",
        "          return features\n",
        "\n",
        "        return self.classifier_head(features)"
      ]
    },
    {
      "cell_type": "markdown",
      "id": "5_RKi8vnzwZe",
      "metadata": {
        "id": "5_RKi8vnzwZe"
      },
      "source": [
        "Training loop.."
      ]
    },
    {
      "cell_type": "code",
      "execution_count": null,
      "id": "a550b878",
      "metadata": {
        "colab": {
          "base_uri": "https://localhost:8080/"
        },
        "id": "a550b878",
        "outputId": "be7f4287-587c-4d6f-8a70-9d89a9099e8a"
      },
      "outputs": [
        {
          "name": "stdout",
          "output_type": "stream",
          "text": [
            "Epoch 1, Loss: 0.4248076155781746\n",
            "Epoch 2, Loss: 0.30881642177700996\n",
            "Epoch 3, Loss: 0.23577766529706423\n",
            "Epoch 4, Loss: 0.18830894364509732\n",
            "Epoch 5, Loss: 0.1834445253771264\n",
            "Epoch 6, Loss: 0.2022001203149557\n",
            "Epoch 7, Loss: 0.17750421901109803\n",
            "Epoch 8, Loss: 0.34895626141224056\n",
            "Epoch 9, Loss: 0.3018286060541868\n",
            "Epoch 10, Loss: 0.25349803594872355\n",
            "Epoch 11, Loss: 0.19111380592221394\n",
            "Epoch 12, Loss: 0.2196476082317531\n",
            "Epoch 13, Loss: 0.22935246489942074\n",
            "Epoch 14, Loss: 0.23176245158538222\n",
            "Epoch 15, Loss: 0.2146092765033245\n",
            "Epoch 16, Loss: 0.19030975311034126\n",
            "Epoch 17, Loss: 0.18337263535067905\n",
            "Epoch 18, Loss: 0.17604238889180124\n",
            "Epoch 19, Loss: 0.16077646327539696\n",
            "Epoch 20, Loss: 0.16562887839972973\n"
          ]
        }
      ],
      "source": [
        "# Initializing the model, loss and optimizer\n",
        "text_model = TextLSTM(len(vocab), 300, 128).to(device)\n",
        "\n",
        "loss_fn = nn.BCELoss()\n",
        "\n",
        "optimizer = torch.optim.Adam(text_model.parameters(), 1e-3)\n",
        "\n",
        "text_dataset = TensorDataset(X_train_text, y_train_tensor)\n",
        "train_text_loader = DataLoader(text_dataset, batch_size=32, shuffle=True)\n",
        "\n",
        "for epoch in range(20):\n",
        "    text_model.train()\n",
        "    total_loss = 0\n",
        "    for x_i, y_i in train_text_loader:\n",
        "        x_i = x_i.to(device)\n",
        "        y_i = y_i.to(device)\n",
        "        optimizer.zero_grad()\n",
        "        preds = text_model.forward(x_i)\n",
        "        loss = loss_fn(preds,y_i)\n",
        "        loss.backward()\n",
        "        optimizer.step()\n",
        "\n",
        "        total_loss+=loss.item()\n",
        "\n",
        "    print(f'Epoch {epoch+1}, Loss: {total_loss/train_text_loader.batch_size}')"
      ]
    },
    {
      "cell_type": "markdown",
      "id": "QNGTpuh10lG6",
      "metadata": {
        "id": "QNGTpuh10lG6"
      },
      "source": [
        "Let's see how this does against the test data.."
      ]
    },
    {
      "cell_type": "code",
      "execution_count": null,
      "id": "UorW0AA-0r_3",
      "metadata": {
        "colab": {
          "base_uri": "https://localhost:8080/",
          "height": 655
        },
        "id": "UorW0AA-0r_3",
        "outputId": "6d0cb2a9-6e4a-46c0-fb0e-5bc3a1e2cb1f"
      },
      "outputs": [
        {
          "ename": "RuntimeError",
          "evalue": "CUDA error: unspecified launch failure\nCUDA kernel errors might be asynchronously reported at some other API call, so the stacktrace below might be incorrect.\nFor debugging consider passing CUDA_LAUNCH_BLOCKING=1\nCompile with `TORCH_USE_CUDA_DSA` to enable device-side assertions.\n",
          "output_type": "error",
          "traceback": [
            "\u001b[31m---------------------------------------------------------------------------\u001b[39m",
            "\u001b[31mRuntimeError\u001b[39m                              Traceback (most recent call last)",
            "\u001b[36mCell\u001b[39m\u001b[36m \u001b[39m\u001b[32mIn[60]\u001b[39m\u001b[32m, line 3\u001b[39m\n\u001b[32m      1\u001b[39m text_model.eval()\n\u001b[32m      2\u001b[39m \u001b[38;5;28;01mwith\u001b[39;00m torch.no_grad():\n\u001b[32m----> \u001b[39m\u001b[32m3\u001b[39m   preds = text_model(\u001b[43mX_test_text\u001b[49m\u001b[43m.\u001b[49m\u001b[43mto\u001b[49m\u001b[43m(\u001b[49m\u001b[43mdevice\u001b[49m\u001b[43m)\u001b[49m).cpu().numpy()\n\u001b[32m      5\u001b[39m preds = (preds>\u001b[32m0.5\u001b[39m).astype(\u001b[38;5;28mint\u001b[39m)\n\u001b[32m      7\u001b[39m plot_confusion_matrix(y_test, preds)\n",
            "\u001b[31mRuntimeError\u001b[39m: CUDA error: unspecified launch failure\nCUDA kernel errors might be asynchronously reported at some other API call, so the stacktrace below might be incorrect.\nFor debugging consider passing CUDA_LAUNCH_BLOCKING=1\nCompile with `TORCH_USE_CUDA_DSA` to enable device-side assertions.\n"
          ]
        }
      ],
      "source": [
        "text_model.eval()\n",
        "with torch.no_grad():\n",
        "  preds = text_model(X_test_text.to(device)).cpu().numpy()\n",
        "\n",
        "preds = (preds>0.5).astype(int)\n",
        "\n",
        "plot_confusion_matrix(y_test, preds)\n",
        "print(classification_report(y_test, preds))"
      ]
    },
    {
      "cell_type": "markdown",
      "id": "CNDVljcN1Cq-",
      "metadata": {
        "id": "CNDVljcN1Cq-"
      },
      "source": [
        "Once again, seems to be doing really good!\n",
        "\n",
        "## Merging the Two Branches\n",
        "\n",
        "So the idea here is to merge the final layers before the output and train a neural network on that.\n",
        "\n",
        "Below is the implementation."
      ]
    },
    {
      "cell_type": "code",
      "execution_count": null,
      "id": "pAcc6fWd1p5b",
      "metadata": {
        "id": "pAcc6fWd1p5b"
      },
      "outputs": [],
      "source": [
        "class FusionClassifier(nn.Module):\n",
        "  def __init__(self, tab_model, text_model, input_dims):\n",
        "    super().__init__()\n",
        "    self.tab_model = tab_model\n",
        "    self.text_model = text_model\n",
        "\n",
        "    # Simple MLP\n",
        "    self.final_classifier = nn.Sequential(\n",
        "        nn.Linear(input_dims, 64),\n",
        "        nn.ReLU(),\n",
        "        nn.Linear(64,1),\n",
        "        nn.Sigmoid()\n",
        "    )\n",
        "\n",
        "  def forward(self, x_tab, x_text):\n",
        "    # Extract the final two layers from the two models and classify\n",
        "    tab_feats = self.tab_model(x_tab, return_features=True)\n",
        "    text_feats = self.text_model(x_text, return_features=True)\n",
        "\n",
        "    fused_features = torch.cat([tab_feats, text_feats], dim=1)\n",
        "    return self.final_classifier(fused_features)"
      ]
    },
    {
      "cell_type": "markdown",
      "id": "UcGzyX3N1Yva",
      "metadata": {
        "id": "UcGzyX3N1Yva"
      },
      "source": [
        "Training loop.."
      ]
    },
    {
      "cell_type": "code",
      "execution_count": null,
      "id": "F2O-Uniu5AbB",
      "metadata": {
        "colab": {
          "base_uri": "https://localhost:8080/"
        },
        "id": "F2O-Uniu5AbB",
        "outputId": "9cef17b4-7317-450e-c6ce-294dba2f7609"
      },
      "outputs": [
        {
          "name": "stdout",
          "output_type": "stream",
          "text": [
            "Epoch 1, Loss: 0.26988649808547716\n",
            "Epoch 2, Loss: 0.057646942494267765\n",
            "Epoch 3, Loss: 0.023832706290043214\n",
            "Epoch 4, Loss: 0.01825633538584787\n",
            "Epoch 5, Loss: 0.008731355920727683\n",
            "Epoch 6, Loss: 0.008003708995106123\n",
            "Epoch 7, Loss: 0.02059665745003837\n",
            "Epoch 8, Loss: 0.012661018276544795\n",
            "Epoch 9, Loss: 0.006123613127949118\n",
            "Epoch 10, Loss: 0.006673680270482278\n"
          ]
        }
      ],
      "source": [
        "# Define the necessary stuff\n",
        "fusion_model = FusionClassifier(tab_model, text_model, input_dims=128).to(device)\n",
        "loss_fn = nn.BCELoss()\n",
        "\n",
        "optimizer = torch.optim.Adam(fusion_model.parameters(), lr=1e-3)\n",
        "\n",
        "epochs = 10\n",
        "\n",
        "fused_dataset = TensorDataset(X_train_tab, X_train_text, y_train_tensor)\n",
        "fused_loader = DataLoader(fused_dataset, batch_size=32, shuffle=True)\n",
        "\n",
        "for epoch in range(epochs):\n",
        "  fusion_model.train()\n",
        "  running_loss = 0.0\n",
        "\n",
        "  for x_tab, x_text, y in fused_loader:\n",
        "    x_tab = x_tab.to(device)\n",
        "    x_text = x_text.to(device)\n",
        "    y = y.to(device)\n",
        "\n",
        "    optimizer.zero_grad()\n",
        "    preds = fusion_model(x_tab, x_text)\n",
        "    loss = loss_fn(preds, y)\n",
        "    loss.backward()\n",
        "    optimizer.step()\n",
        "\n",
        "    running_loss += loss.item()\n",
        "\n",
        "  print(f'Epoch {epoch+1}, Loss: {running_loss/len(train_loader)}')"
      ]
    },
    {
      "cell_type": "markdown",
      "id": "JGo94I_d1wJS",
      "metadata": {
        "id": "JGo94I_d1wJS"
      },
      "source": [
        "Now to test it.."
      ]
    },
    {
      "cell_type": "code",
      "execution_count": null,
      "id": "5-At4U0Z6WUa",
      "metadata": {
        "colab": {
          "base_uri": "https://localhost:8080/",
          "height": 663
        },
        "id": "5-At4U0Z6WUa",
        "outputId": "e1e77604-9448-4d52-b0a9-099a79e95cc2"
      },
      "outputs": [
        {
          "data": {
            "image/png": "[encoded data removed]",
            "text/plain": [
              "<Figure size 600x600 with 2 Axes>"
            ]
          },
          "metadata": {},
          "output_type": "display_data"
        },
        {
          "name": "stdout",
          "output_type": "stream",
          "text": [
            "              precision    recall  f1-score   support\n",
            "\n",
            "           0       1.00      1.00      1.00       103\n",
            "           1       1.00      1.00      1.00       186\n",
            "\n",
            "    accuracy                           1.00       289\n",
            "   macro avg       1.00      1.00      1.00       289\n",
            "weighted avg       1.00      1.00      1.00       289\n",
            "\n"
          ]
        }
      ],
      "source": [
        "  fusion_model.eval()\n",
        "  with torch.no_grad():\n",
        "      preds = fusion_model(X_test_tab.to(device), X_test_text.to(device)).cpu().numpy()\n",
        "\n",
        "  preds = (preds>0.7).astype(int)\n",
        "  plot_confusion_matrix(y_test, preds)\n",
        "  print(classification_report(y_test, preds))"
      ]
    },
    {
      "cell_type": "markdown",
      "id": "Hqk8x3Xx2Ff1",
      "metadata": {
        "id": "Hqk8x3Xx2Ff1"
      },
      "source": [
        "That.. was much better than expected!\n",
        "\n",
        "Let's also plot the ROC curve."
      ]
    },
    {
      "cell_type": "code",
      "execution_count": null,
      "id": "rguJpgW3iAXM",
      "metadata": {
        "colab": {
          "base_uri": "https://localhost:8080/",
          "height": 564
        },
        "id": "rguJpgW3iAXM",
        "outputId": "7a7a897b-3371-486d-9eed-1922265c3c30"
      },
      "outputs": [
        {
          "data": {
            "image/png": "[encoded data removed]",
            "text/plain": [
              "<Figure size 600x600 with 1 Axes>"
            ]
          },
          "metadata": {},
          "output_type": "display_data"
        }
      ],
      "source": [
        "from sklearn.metrics import roc_curve, auc\n",
        "import matplotlib.pyplot as plt\n",
        "\n",
        "def plot_roc_curve(y_true, y_probs, title=\"ROC Curve\"):\n",
        "    fpr, tpr, thresholds = roc_curve(y_true, y_probs)\n",
        "    roc_auc = auc(fpr, tpr)\n",
        "\n",
        "    plt.figure(figsize=(6, 6))\n",
        "    plt.plot(fpr, tpr, color='blue', lw=2, label=f\"AUC = {roc_auc:.2f}\")\n",
        "    plt.plot([0, 1], [0, 1], color='gray', lw=1, linestyle='--')\n",
        "    plt.xlim([0.0, 1.0])\n",
        "    plt.ylim([0.0, 1.05])\n",
        "    plt.xlabel(\"False Positive Rate\")\n",
        "    plt.ylabel(\"True Positive Rate\")\n",
        "    plt.title(title)\n",
        "    plt.legend(loc=\"lower right\")\n",
        "    plt.grid(True)\n",
        "    plt.show()\n",
        "\n",
        "plot_roc_curve(y_test, preds)"
      ]
    },
    {
      "cell_type": "markdown",
      "id": "cczPX7CoigI0",
      "metadata": {
        "id": "cczPX7CoigI0"
      },
      "source": [
        "## Comparison with Other Models\n",
        "\n",
        "Let's compare our system with some other standard models trained on the tabular data.\n",
        "\n",
        "### 1. Logistic Regression"
      ]
    },
    {
      "cell_type": "code",
      "execution_count": null,
      "id": "5V0wA01Ziol_",
      "metadata": {
        "colab": {
          "base_uri": "https://localhost:8080/",
          "height": 663
        },
        "id": "5V0wA01Ziol_",
        "outputId": "2949bd2b-4061-4771-ec3e-84d45eb5507c"
      },
      "outputs": [
        {
          "data": {
            "image/png": "[encoded data removed]",
            "text/plain": [
              "<Figure size 600x600 with 2 Axes>"
            ]
          },
          "metadata": {},
          "output_type": "display_data"
        },
        {
          "name": "stdout",
          "output_type": "stream",
          "text": [
            "              precision    recall  f1-score   support\n",
            "\n",
            "           0       0.94      1.00      0.97       103\n",
            "           1       1.00      0.96      0.98       186\n",
            "\n",
            "    accuracy                           0.98       289\n",
            "   macro avg       0.97      0.98      0.97       289\n",
            "weighted avg       0.98      0.98      0.98       289\n",
            "\n"
          ]
        }
      ],
      "source": [
        "from sklearn.linear_model import LogisticRegression\n",
        "\n",
        "logreg = LogisticRegression()\n",
        "logreg.fit(X_train_tab, y_train)\n",
        "\n",
        "preds = logreg.predict(X_test_tab.cpu())\n",
        "\n",
        "plot_confusion_matrix(y_test, preds)\n",
        "print(classification_report(y_test, preds))"
      ]
    },
    {
      "cell_type": "markdown",
      "id": "PuwfVVpvlcSz",
      "metadata": {
        "id": "PuwfVVpvlcSz"
      },
      "source": [
        "### 2. Random Forest Classifier"
      ]
    },
    {
      "cell_type": "code",
      "execution_count": null,
      "id": "Ub5R7vSrlCS7",
      "metadata": {
        "colab": {
          "base_uri": "https://localhost:8080/",
          "height": 663
        },
        "id": "Ub5R7vSrlCS7",
        "outputId": "63ee76d2-0dfe-46d4-9ba7-9136e6ec84fb"
      },
      "outputs": [
        {
          "data": {
            "image/png": "[encoded data removed]",
            "text/plain": [
              "<Figure size 600x600 with 2 Axes>"
            ]
          },
          "metadata": {},
          "output_type": "display_data"
        },
        {
          "name": "stdout",
          "output_type": "stream",
          "text": [
            "              precision    recall  f1-score   support\n",
            "\n",
            "           0       1.00      0.85      0.92       103\n",
            "           1       0.93      1.00      0.96       186\n",
            "\n",
            "    accuracy                           0.95       289\n",
            "   macro avg       0.96      0.93      0.94       289\n",
            "weighted avg       0.95      0.95      0.95       289\n",
            "\n"
          ]
        }
      ],
      "source": [
        "from sklearn.ensemble import RandomForestClassifier\n",
        "\n",
        "forest = RandomForestClassifier()\n",
        "forest.fit(X_train_tab, y_train)\n",
        "\n",
        "preds = forest.predict(X_test_tab.cpu())\n",
        "\n",
        "plot_confusion_matrix(y_test, preds)\n",
        "print(classification_report(y_test, preds))"
      ]
    },
    {
      "cell_type": "markdown",
      "id": "K_Tl3AsAlSZr",
      "metadata": {
        "id": "K_Tl3AsAlSZr"
      },
      "source": [
        "### 3. XGBClassifier"
      ]
    },
    {
      "cell_type": "code",
      "execution_count": null,
      "id": "GfnVpwPTjjUA",
      "metadata": {
        "colab": {
          "base_uri": "https://localhost:8080/",
          "height": 663
        },
        "id": "GfnVpwPTjjUA",
        "outputId": "d9efafc8-1745-4518-f0c5-193a06711121"
      },
      "outputs": [
        {
          "data": {
            "image/png": "[encoded data removed]",
            "text/plain": [
              "<Figure size 600x600 with 2 Axes>"
            ]
          },
          "metadata": {},
          "output_type": "display_data"
        },
        {
          "name": "stdout",
          "output_type": "stream",
          "text": [
            "              precision    recall  f1-score   support\n",
            "\n",
            "           0       1.00      0.85      0.92       103\n",
            "           1       0.93      1.00      0.96       186\n",
            "\n",
            "    accuracy                           0.95       289\n",
            "   macro avg       0.96      0.93      0.94       289\n",
            "weighted avg       0.95      0.95      0.95       289\n",
            "\n"
          ]
        }
      ],
      "source": [
        "from xgboost import XGBClassifier\n",
        "\n",
        "xgb = XGBClassifier()\n",
        "\n",
        "xgb.fit(X_train_tab, y_train)\n",
        "\n",
        "preds = xgb.predict(X_test_tab.cpu())\n",
        "plot_confusion_matrix(y_test, preds)\n",
        "print(classification_report(y_test, preds))"
      ]
    },
    {
      "cell_type": "markdown",
      "id": "9fZsRkaBk7VT",
      "metadata": {
        "id": "9fZsRkaBk7VT"
      },
      "source": [
        "### 4. Support Vector Machine Classifier"
      ]
    },
    {
      "cell_type": "code",
      "execution_count": null,
      "id": "-A7AJYGWlsFs",
      "metadata": {
        "colab": {
          "base_uri": "https://localhost:8080/",
          "height": 663
        },
        "id": "-A7AJYGWlsFs",
        "outputId": "21a0c7c8-210c-4c34-e849-3bedc4cf8c3f"
      },
      "outputs": [
        {
          "data": {
            "image/png": "[encoded data removed]",
            "text/plain": [
              "<Figure size 600x600 with 2 Axes>"
            ]
          },
          "metadata": {},
          "output_type": "display_data"
        },
        {
          "name": "stdout",
          "output_type": "stream",
          "text": [
            "              precision    recall  f1-score   support\n",
            "\n",
            "           0       0.94      1.00      0.97       103\n",
            "           1       1.00      0.96      0.98       186\n",
            "\n",
            "    accuracy                           0.98       289\n",
            "   macro avg       0.97      0.98      0.97       289\n",
            "weighted avg       0.98      0.98      0.98       289\n",
            "\n"
          ]
        }
      ],
      "source": [
        "from sklearn.svm import SVC\n",
        "\n",
        "svc = SVC()\n",
        "\n",
        "svc.fit(X_train_tab, y_train)\n",
        "\n",
        "preds = svc.predict(X_test_tab.cpu())\n",
        "\n",
        "plot_confusion_matrix(y_test, preds)\n",
        "print(classification_report(y_test, preds))"
      ]
    },
    {
      "cell_type": "markdown",
      "id": "Jvv7TthTl3mJ",
      "metadata": {
        "id": "Jvv7TthTl3mJ"
      },
      "source": [
        "All of the models perform fairly well on the data mostly because the labels were synthesized directly from the tabular data making it easier to find the patterns.\n",
        "\n",
        "Says a lot when quality of data is good, then even the most basic models produce pretty good results!\n",
        "\n",
        "And that's it for now!"
      ]
    }
  ],
  "metadata": {
    "accelerator": "GPU",
    "colab": {
      "gpuType": "T4",
      "provenance": []
    },
    "kernelspec": {
      "display_name": "base",
      "language": "python",
      "name": "python3"
    },
    "language_info": {
      "codemirror_mode": {
        "name": "ipython",
        "version": 3
      },
      "file_extension": ".py",
      "mimetype": "text/x-python",
      "name": "python",
      "nbconvert_exporter": "python",
      "pygments_lexer": "ipython3",
      "version": "3.12.9"
    }
  },
  "nbformat": 4,
  "nbformat_minor": 5
}
